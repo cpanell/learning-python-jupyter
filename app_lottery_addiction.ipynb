{
 "cells": [
  {
   "cell_type": "markdown",
   "metadata": {
    "collapsed": true
   },
   "source": [
    "# Mobile App for Lottery Addiction\n",
    "\n",
    "Goal: Create a mobile app for lottery addition that shows the low probabilty of winning.\n",
    "\n",
    "In order to deliver the probability, we'll first create functions for finding Factorial and Combinations."
   ]
  },
  {
   "cell_type": "code",
   "execution_count": 2,
   "metadata": {},
   "outputs": [],
   "source": [
    "# Factorial function will find the factorial for a numbers (n).\n",
    "\n",
    "def factorial(n):\n",
    "    result = 1\n",
    "    for i in range(n, 0, -1):\n",
    "        result *= i\n",
    "    return result\n",
    "\n",
    "# Combinations function for finding the combination for 'n' possiblities in 'k' combinations \n",
    "\n",
    "def combinations(n,k):\n",
    "    numerator = factorial(n)\n",
    "    denominator = factorial(k) * factorial(n-k)\n",
    "    return numerator / denominator"
   ]
  },
  {
   "cell_type": "code",
   "execution_count": 21,
   "metadata": {},
   "outputs": [],
   "source": [
    "def one_ticket_probability(numbers):\n",
    "    probability = 1 / combinations(49,6)\n",
    "    odds = int(combinations(49,6))\n",
    "    return print('The probability of winning is {:.7f}%. You have a one in {:,} chance of winning.'.format(probability * 100, odds))"
   ]
  },
  {
   "cell_type": "code",
   "execution_count": 22,
   "metadata": {},
   "outputs": [
    {
     "name": "stdout",
     "output_type": "stream",
     "text": [
      "The probability of winning is 0.0000072%. You have a one in 13,983,816 chance of winning.\n"
     ]
    }
   ],
   "source": [
    "# Testing the function\n",
    "one_ticket_probability([1,2,3,4,5,6])"
   ]
  },
  {
   "cell_type": "code",
   "execution_count": 23,
   "metadata": {},
   "outputs": [
    {
     "data": {
      "text/plain": [
       "(3665, 11)"
      ]
     },
     "execution_count": 23,
     "metadata": {},
     "output_type": "execute_result"
    }
   ],
   "source": [
    "# Import Pandas and read the historical lottery data.\n",
    "\n",
    "import pandas as pd\n",
    "\n",
    "lottery_data = pd.read_csv('649.csv')\n",
    "lottery_data.shape"
   ]
  },
  {
   "cell_type": "code",
   "execution_count": 24,
   "metadata": {},
   "outputs": [
    {
     "data": {
      "text/html": [
       "<div>\n",
       "<style scoped>\n",
       "    .dataframe tbody tr th:only-of-type {\n",
       "        vertical-align: middle;\n",
       "    }\n",
       "\n",
       "    .dataframe tbody tr th {\n",
       "        vertical-align: top;\n",
       "    }\n",
       "\n",
       "    .dataframe thead th {\n",
       "        text-align: right;\n",
       "    }\n",
       "</style>\n",
       "<table border=\"1\" class=\"dataframe\">\n",
       "  <thead>\n",
       "    <tr style=\"text-align: right;\">\n",
       "      <th></th>\n",
       "      <th>PRODUCT</th>\n",
       "      <th>DRAW NUMBER</th>\n",
       "      <th>SEQUENCE NUMBER</th>\n",
       "      <th>DRAW DATE</th>\n",
       "      <th>NUMBER DRAWN 1</th>\n",
       "      <th>NUMBER DRAWN 2</th>\n",
       "      <th>NUMBER DRAWN 3</th>\n",
       "      <th>NUMBER DRAWN 4</th>\n",
       "      <th>NUMBER DRAWN 5</th>\n",
       "      <th>NUMBER DRAWN 6</th>\n",
       "      <th>BONUS NUMBER</th>\n",
       "    </tr>\n",
       "  </thead>\n",
       "  <tbody>\n",
       "    <tr>\n",
       "      <th>0</th>\n",
       "      <td>649</td>\n",
       "      <td>1</td>\n",
       "      <td>0</td>\n",
       "      <td>6/12/1982</td>\n",
       "      <td>3</td>\n",
       "      <td>11</td>\n",
       "      <td>12</td>\n",
       "      <td>14</td>\n",
       "      <td>41</td>\n",
       "      <td>43</td>\n",
       "      <td>13</td>\n",
       "    </tr>\n",
       "    <tr>\n",
       "      <th>1</th>\n",
       "      <td>649</td>\n",
       "      <td>2</td>\n",
       "      <td>0</td>\n",
       "      <td>6/19/1982</td>\n",
       "      <td>8</td>\n",
       "      <td>33</td>\n",
       "      <td>36</td>\n",
       "      <td>37</td>\n",
       "      <td>39</td>\n",
       "      <td>41</td>\n",
       "      <td>9</td>\n",
       "    </tr>\n",
       "    <tr>\n",
       "      <th>2</th>\n",
       "      <td>649</td>\n",
       "      <td>3</td>\n",
       "      <td>0</td>\n",
       "      <td>6/26/1982</td>\n",
       "      <td>1</td>\n",
       "      <td>6</td>\n",
       "      <td>23</td>\n",
       "      <td>24</td>\n",
       "      <td>27</td>\n",
       "      <td>39</td>\n",
       "      <td>34</td>\n",
       "    </tr>\n",
       "  </tbody>\n",
       "</table>\n",
       "</div>"
      ],
      "text/plain": [
       "   PRODUCT  DRAW NUMBER  SEQUENCE NUMBER  DRAW DATE  NUMBER DRAWN 1  \\\n",
       "0      649            1                0  6/12/1982               3   \n",
       "1      649            2                0  6/19/1982               8   \n",
       "2      649            3                0  6/26/1982               1   \n",
       "\n",
       "   NUMBER DRAWN 2  NUMBER DRAWN 3  NUMBER DRAWN 4  NUMBER DRAWN 5  \\\n",
       "0              11              12              14              41   \n",
       "1              33              36              37              39   \n",
       "2               6              23              24              27   \n",
       "\n",
       "   NUMBER DRAWN 6  BONUS NUMBER  \n",
       "0              43            13  \n",
       "1              41             9  \n",
       "2              39            34  "
      ]
     },
     "execution_count": 24,
     "metadata": {},
     "output_type": "execute_result"
    }
   ],
   "source": [
    "lottery_data.head(3)"
   ]
  },
  {
   "cell_type": "code",
   "execution_count": 25,
   "metadata": {},
   "outputs": [
    {
     "data": {
      "text/html": [
       "<div>\n",
       "<style scoped>\n",
       "    .dataframe tbody tr th:only-of-type {\n",
       "        vertical-align: middle;\n",
       "    }\n",
       "\n",
       "    .dataframe tbody tr th {\n",
       "        vertical-align: top;\n",
       "    }\n",
       "\n",
       "    .dataframe thead th {\n",
       "        text-align: right;\n",
       "    }\n",
       "</style>\n",
       "<table border=\"1\" class=\"dataframe\">\n",
       "  <thead>\n",
       "    <tr style=\"text-align: right;\">\n",
       "      <th></th>\n",
       "      <th>PRODUCT</th>\n",
       "      <th>DRAW NUMBER</th>\n",
       "      <th>SEQUENCE NUMBER</th>\n",
       "      <th>DRAW DATE</th>\n",
       "      <th>NUMBER DRAWN 1</th>\n",
       "      <th>NUMBER DRAWN 2</th>\n",
       "      <th>NUMBER DRAWN 3</th>\n",
       "      <th>NUMBER DRAWN 4</th>\n",
       "      <th>NUMBER DRAWN 5</th>\n",
       "      <th>NUMBER DRAWN 6</th>\n",
       "      <th>BONUS NUMBER</th>\n",
       "    </tr>\n",
       "  </thead>\n",
       "  <tbody>\n",
       "    <tr>\n",
       "      <th>3662</th>\n",
       "      <td>649</td>\n",
       "      <td>3589</td>\n",
       "      <td>0</td>\n",
       "      <td>6/13/2018</td>\n",
       "      <td>6</td>\n",
       "      <td>22</td>\n",
       "      <td>24</td>\n",
       "      <td>31</td>\n",
       "      <td>32</td>\n",
       "      <td>34</td>\n",
       "      <td>16</td>\n",
       "    </tr>\n",
       "    <tr>\n",
       "      <th>3663</th>\n",
       "      <td>649</td>\n",
       "      <td>3590</td>\n",
       "      <td>0</td>\n",
       "      <td>6/16/2018</td>\n",
       "      <td>2</td>\n",
       "      <td>15</td>\n",
       "      <td>21</td>\n",
       "      <td>31</td>\n",
       "      <td>38</td>\n",
       "      <td>49</td>\n",
       "      <td>8</td>\n",
       "    </tr>\n",
       "    <tr>\n",
       "      <th>3664</th>\n",
       "      <td>649</td>\n",
       "      <td>3591</td>\n",
       "      <td>0</td>\n",
       "      <td>6/20/2018</td>\n",
       "      <td>14</td>\n",
       "      <td>24</td>\n",
       "      <td>31</td>\n",
       "      <td>35</td>\n",
       "      <td>37</td>\n",
       "      <td>48</td>\n",
       "      <td>17</td>\n",
       "    </tr>\n",
       "  </tbody>\n",
       "</table>\n",
       "</div>"
      ],
      "text/plain": [
       "      PRODUCT  DRAW NUMBER  SEQUENCE NUMBER  DRAW DATE  NUMBER DRAWN 1  \\\n",
       "3662      649         3589                0  6/13/2018               6   \n",
       "3663      649         3590                0  6/16/2018               2   \n",
       "3664      649         3591                0  6/20/2018              14   \n",
       "\n",
       "      NUMBER DRAWN 2  NUMBER DRAWN 3  NUMBER DRAWN 4  NUMBER DRAWN 5  \\\n",
       "3662              22              24              31              32   \n",
       "3663              15              21              31              38   \n",
       "3664              24              31              35              37   \n",
       "\n",
       "      NUMBER DRAWN 6  BONUS NUMBER  \n",
       "3662              34            16  \n",
       "3663              49             8  \n",
       "3664              48            17  "
      ]
     },
     "execution_count": 25,
     "metadata": {},
     "output_type": "execute_result"
    }
   ],
   "source": [
    "lottery_data.tail(3)"
   ]
  },
  {
   "cell_type": "code",
   "execution_count": 27,
   "metadata": {},
   "outputs": [
    {
     "data": {
      "text/plain": [
       "0    {3, 41, 11, 12, 43, 14}\n",
       "1    {33, 36, 37, 39, 8, 41}\n",
       "2     {1, 6, 39, 23, 24, 27}\n",
       "3     {3, 9, 10, 43, 13, 20}\n",
       "4    {34, 5, 14, 47, 21, 31}\n",
       "dtype: object"
      ]
     },
     "execution_count": 27,
     "metadata": {},
     "output_type": "execute_result"
    }
   ],
   "source": [
    "# Writing a funciton to extract the winning lottery numbers.\n",
    "\n",
    "def extract_numbers(data):\n",
    "    data = data[4:10]\n",
    "    data = set(data.values)\n",
    "    return data\n",
    "\n",
    "win_numbers = lottery_data.apply(extract_numbers, axis=1)\n",
    "win_numbers.head()"
   ]
  },
  {
   "cell_type": "code",
   "execution_count": 28,
   "metadata": {},
   "outputs": [],
   "source": [
    "# Check the numbers against all historical winning numbers\n",
    "\n",
    "def check_historical_occurence(numbers, win_numbers):\n",
    "    set_numbers = set(numbers)\n",
    "    occurances = set_numbers == win_numbers\n",
    "    n_occurances = occurances.sum()\n",
    "    \n",
    "    if n_occurances == 0:\n",
    "        print('The numbers {} have never won. This does not make them more likely to happen now. he probability of winning is 0.0000072%. You have a one in 13,983,816 chance of winning.'.format(numbers))\n",
    "    else:\n",
    "        print('The numbers {} have won {} times. This does not make them more likely to happen now. he probability of winning is 0.0000072%. You have a one in 13,983,816 chance of winning.'.format(numbers, n_occurances))"
   ]
  },
  {
   "cell_type": "code",
   "execution_count": 29,
   "metadata": {},
   "outputs": [
    {
     "name": "stdout",
     "output_type": "stream",
     "text": [
      "The numbers [1, 17, 23, 34, 45, 46] have never won. This does not make them more likely to happen now. he probability of winning is 0.0000072%. You have a one in 13,983,816 chance of winning.\n"
     ]
    }
   ],
   "source": [
    "check_historical_occurence([1,17,23,34,45,46], win_numbers)"
   ]
  },
  {
   "cell_type": "code",
   "execution_count": 30,
   "metadata": {},
   "outputs": [
    {
     "name": "stdout",
     "output_type": "stream",
     "text": [
      "The numbers [33, 36, 37, 39, 8, 41] have won 1 times. This does not make them more likely to happen now. he probability of winning is 0.0000072%. You have a one in 13,983,816 chance of winning.\n"
     ]
    }
   ],
   "source": [
    "check_historical_occurence([33, 36, 37, 39, 8, 41], win_numbers)"
   ]
  },
  {
   "cell_type": "code",
   "execution_count": 39,
   "metadata": {},
   "outputs": [],
   "source": [
    "def multi_ticket_probability(tickets):\n",
    "    probability = tickets / combinations(49,6)\n",
    "    odds = int(combinations(49,6) / tickets)\n",
    "    return print('The probability of winning with {} tickets is {:.7f}%. You have a 1 in {:,} chance of winning.'.format(tickets, probability * 100, odds))"
   ]
  },
  {
   "cell_type": "code",
   "execution_count": 40,
   "metadata": {},
   "outputs": [
    {
     "name": "stdout",
     "output_type": "stream",
     "text": [
      "The probability of winning with 1 tickets is 0.0000072%. You have a 1 in 13,983,816 chance of winning.\n",
      "--------------------\n",
      "The probability of winning with 10 tickets is 0.0000715%. You have a 1 in 1,398,381 chance of winning.\n",
      "--------------------\n",
      "The probability of winning with 100 tickets is 0.0007151%. You have a 1 in 139,838 chance of winning.\n",
      "--------------------\n",
      "The probability of winning with 10000 tickets is 0.0715112%. You have a 1 in 1,398 chance of winning.\n",
      "--------------------\n",
      "The probability of winning with 1000000 tickets is 7.1511238%. You have a 1 in 13 chance of winning.\n",
      "--------------------\n",
      "The probability of winning with 6991908 tickets is 50.0000000%. You have a 1 in 2 chance of winning.\n",
      "--------------------\n",
      "The probability of winning with 13983816 tickets is 100.0000000%. You have a 1 in 1 chance of winning.\n",
      "--------------------\n"
     ]
    }
   ],
   "source": [
    "test_inputs = [1, 10, 100, 10000, 1000000, 6991908, 13983816]\n",
    "\n",
    "for x in test_inputs:\n",
    "    multi_ticket_probability(x)\n",
    "    print ('--------------------') #Creates a delimiter per output"
   ]
  },
  {
   "cell_type": "code",
   "execution_count": 41,
   "metadata": {},
   "outputs": [],
   "source": [
    "# Create a function for finding the probabilty of having x number of winning numbers out of the total 6.\n",
    "def probability_less_6(num):\n",
    "    win_combos = combinations(6,num)\n",
    "    remaining_combos = combinations(43, 6 - num)\n",
    "    success_outcomes = win_combos * remaining_combos\n",
    "    \n",
    "    total_combos = combinations(49,6)\n",
    "    probability = success_outcomes / total_combos\n",
    "    \n",
    "    odds = round(total_combos / success_outcomes)\n",
    "    \n",
    "    print('''Your chances of having {} winning numers with this ticket are {:.6f}%. You have a 1 in {:,} chances to win.'''.format(num, probability * 100, int(odds)))"
   ]
  },
  {
   "cell_type": "code",
   "execution_count": 42,
   "metadata": {},
   "outputs": [
    {
     "name": "stdout",
     "output_type": "stream",
     "text": [
      "Your chances of having 2 winning numers with this ticket are 13.237803%. You have a 1 in 8 chances to win.\n",
      "-----------------\n",
      "Your chances of having 3 winning numers with this ticket are 1.765040%. You have a 1 in 57 chances to win.\n",
      "-----------------\n",
      "Your chances of having 4 winning numers with this ticket are 0.096862%. You have a 1 in 1,032 chances to win.\n",
      "-----------------\n",
      "Your chances of having 5 winning numers with this ticket are 0.001845%. You have a 1 in 54,201 chances to win.\n",
      "-----------------\n"
     ]
    }
   ],
   "source": [
    "for x in [2,3,4,5]:\n",
    "    probability_less_6(x)\n",
    "    print('-----------------')"
   ]
  },
  {
   "cell_type": "code",
   "execution_count": null,
   "metadata": {},
   "outputs": [],
   "source": []
  }
 ],
 "metadata": {
  "kernelspec": {
   "display_name": "Python 3",
   "language": "python",
   "name": "python3"
  },
  "language_info": {
   "codemirror_mode": {
    "name": "ipython",
    "version": 3
   },
   "file_extension": ".py",
   "mimetype": "text/x-python",
   "name": "python",
   "nbconvert_exporter": "python",
   "pygments_lexer": "ipython3",
   "version": "3.8.3"
  }
 },
 "nbformat": 4,
 "nbformat_minor": 2
}
