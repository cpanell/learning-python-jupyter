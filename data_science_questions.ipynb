{
 "cells": [
  {
   "cell_type": "markdown",
   "metadata": {
    "collapsed": true
   },
   "source": [
    "# Overview\n",
    "Ran this query at https://data.stackexchange.com/datascience/query/new:\n",
    "SELECT Id, PostTypeId, CreationDate, Score, ViewCount, Tags, AnswerCount, FavoriteCount\n",
    "FROM posts\n",
    "WHERE PostTypeId = 1 AND YEAR(CreationDate) = 2019\n",
    "\n",
    "A query like this was used to create a csv file we'll use to explore the data.\n",
    "\n",
    "First, let's import all the libraries we'll need..."
   ]
  },
  {
   "cell_type": "code",
   "execution_count": 1,
   "metadata": {},
   "outputs": [],
   "source": [
    "import pandas as pd\n",
    "import matplotlib.pyplot as plt\n",
    "import seaborn as sns\n",
    "\n",
    "%matplotlib inline"
   ]
  },
  {
   "cell_type": "markdown",
   "metadata": {},
   "source": [
    "Let's import the csv and look at the data..."
   ]
  },
  {
   "cell_type": "code",
   "execution_count": 2,
   "metadata": {},
   "outputs": [
    {
     "name": "stdout",
     "output_type": "stream",
     "text": [
      "<class 'pandas.core.frame.DataFrame'>\n",
      "RangeIndex: 8839 entries, 0 to 8838\n",
      "Data columns (total 7 columns):\n",
      " #   Column         Non-Null Count  Dtype         \n",
      "---  ------         --------------  -----         \n",
      " 0   Id             8839 non-null   int64         \n",
      " 1   CreationDate   8839 non-null   datetime64[ns]\n",
      " 2   Score          8839 non-null   int64         \n",
      " 3   ViewCount      8839 non-null   int64         \n",
      " 4   Tags           8839 non-null   object        \n",
      " 5   AnswerCount    8839 non-null   int64         \n",
      " 6   FavoriteCount  1407 non-null   float64       \n",
      "dtypes: datetime64[ns](1), float64(1), int64(4), object(1)\n",
      "memory usage: 483.5+ KB\n",
      "None\n"
     ]
    }
   ],
   "source": [
    "questions = pd.read_csv('2019_questions.csv', parse_dates=['CreationDate'])\n",
    "print(questions.info())"
   ]
  },
  {
   "cell_type": "code",
   "execution_count": 3,
   "metadata": {},
   "outputs": [
    {
     "name": "stdout",
     "output_type": "stream",
     "text": [
      "Id                        int64\n",
      "CreationDate     datetime64[ns]\n",
      "Score                     int64\n",
      "ViewCount                 int64\n",
      "Tags                     object\n",
      "AnswerCount               int64\n",
      "FavoriteCount             int64\n",
      "dtype: object\n"
     ]
    }
   ],
   "source": [
    "questions = questions.fillna(0)\n",
    "questions['FavoriteCount'] = questions['FavoriteCount'].astype(int)\n",
    "print(questions.dtypes)"
   ]
  },
  {
   "cell_type": "code",
   "execution_count": 4,
   "metadata": {},
   "outputs": [
    {
     "data": {
      "text/html": [
       "<div>\n",
       "<style scoped>\n",
       "    .dataframe tbody tr th:only-of-type {\n",
       "        vertical-align: middle;\n",
       "    }\n",
       "\n",
       "    .dataframe tbody tr th {\n",
       "        vertical-align: top;\n",
       "    }\n",
       "\n",
       "    .dataframe thead th {\n",
       "        text-align: right;\n",
       "    }\n",
       "</style>\n",
       "<table border=\"1\" class=\"dataframe\">\n",
       "  <thead>\n",
       "    <tr style=\"text-align: right;\">\n",
       "      <th></th>\n",
       "      <th>Id</th>\n",
       "      <th>CreationDate</th>\n",
       "      <th>Score</th>\n",
       "      <th>ViewCount</th>\n",
       "      <th>Tags</th>\n",
       "      <th>AnswerCount</th>\n",
       "      <th>FavoriteCount</th>\n",
       "    </tr>\n",
       "  </thead>\n",
       "  <tbody>\n",
       "    <tr>\n",
       "      <th>5508</th>\n",
       "      <td>62941</td>\n",
       "      <td>2019-11-10 02:06:34</td>\n",
       "      <td>2</td>\n",
       "      <td>67</td>\n",
       "      <td>[classification, loss-function]</td>\n",
       "      <td>2</td>\n",
       "      <td>0</td>\n",
       "    </tr>\n",
       "    <tr>\n",
       "      <th>3224</th>\n",
       "      <td>48081</td>\n",
       "      <td>2019-03-27 13:15:21</td>\n",
       "      <td>3</td>\n",
       "      <td>297</td>\n",
       "      <td>[machine-learning, classification, vc-theory]</td>\n",
       "      <td>1</td>\n",
       "      <td>0</td>\n",
       "    </tr>\n",
       "    <tr>\n",
       "      <th>7722</th>\n",
       "      <td>54228</td>\n",
       "      <td>2019-06-21 15:38:05</td>\n",
       "      <td>0</td>\n",
       "      <td>105</td>\n",
       "      <td>[r, linear-regression]</td>\n",
       "      <td>1</td>\n",
       "      <td>0</td>\n",
       "    </tr>\n",
       "    <tr>\n",
       "      <th>8828</th>\n",
       "      <td>55402</td>\n",
       "      <td>2019-07-10 06:24:42</td>\n",
       "      <td>0</td>\n",
       "      <td>87</td>\n",
       "      <td>[machine-learning, deep-learning, convnet, con...</td>\n",
       "      <td>1</td>\n",
       "      <td>0</td>\n",
       "    </tr>\n",
       "    <tr>\n",
       "      <th>815</th>\n",
       "      <td>56360</td>\n",
       "      <td>2019-07-25 09:44:34</td>\n",
       "      <td>0</td>\n",
       "      <td>21</td>\n",
       "      <td>[python, clustering, graphs]</td>\n",
       "      <td>0</td>\n",
       "      <td>0</td>\n",
       "    </tr>\n",
       "  </tbody>\n",
       "</table>\n",
       "</div>"
      ],
      "text/plain": [
       "         Id        CreationDate  Score  ViewCount  \\\n",
       "5508  62941 2019-11-10 02:06:34      2         67   \n",
       "3224  48081 2019-03-27 13:15:21      3        297   \n",
       "7722  54228 2019-06-21 15:38:05      0        105   \n",
       "8828  55402 2019-07-10 06:24:42      0         87   \n",
       "815   56360 2019-07-25 09:44:34      0         21   \n",
       "\n",
       "                                                   Tags  AnswerCount  \\\n",
       "5508                    [classification, loss-function]            2   \n",
       "3224      [machine-learning, classification, vc-theory]            1   \n",
       "7722                             [r, linear-regression]            1   \n",
       "8828  [machine-learning, deep-learning, convnet, con...            1   \n",
       "815                        [python, clustering, graphs]            0   \n",
       "\n",
       "      FavoriteCount  \n",
       "5508              0  \n",
       "3224              0  \n",
       "7722              0  \n",
       "8828              0  \n",
       "815               0  "
      ]
     },
     "execution_count": 4,
     "metadata": {},
     "output_type": "execute_result"
    }
   ],
   "source": [
    "#Cleaning up the Tags so they can be manipulated as strings...\n",
    "questions['Tags'] = questions['Tags'].astype(str).str.replace('^<|>$','').str.split('><')\n",
    "questions.sample(5)"
   ]
  },
  {
   "cell_type": "markdown",
   "metadata": {},
   "source": [
    "Now let's create a dataframe of the tags by usage (per article) and by views (using \"ViewCount\")..."
   ]
  },
  {
   "cell_type": "code",
   "execution_count": 5,
   "metadata": {},
   "outputs": [
    {
     "name": "stdout",
     "output_type": "stream",
     "text": [
      "                        Count\n",
      "machine-learning         2693\n",
      "python                   1814\n",
      "deep-learning            1220\n",
      "neural-network           1055\n",
      "keras                     935\n",
      "classification            685\n",
      "tensorflow                584\n",
      "scikit-learn              540\n",
      "nlp                       493\n",
      "cnn                       489\n",
      "time-series               466\n",
      "lstm                      402\n",
      "pandas                    354\n",
      "regression                347\n",
      "dataset                   340\n",
      "r                         268\n",
      "predictive-modeling       265\n",
      "clustering                257\n",
      "statistics                234\n",
      "machine-learning-model    224\n"
     ]
    }
   ],
   "source": [
    "tag_usage = {}\n",
    "\n",
    "for tags in questions['Tags']:\n",
    "    for tag in tags:\n",
    "        if tag in tag_usage:\n",
    "            tag_usage[tag] += 1\n",
    "        else:\n",
    "            tag_usage[tag] = 1\n",
    "            \n",
    "tag_usage = pd.DataFrame.from_dict(tag_usage, orient='index')\n",
    "tag_usage.rename(columns={0: 'Count'}, inplace=True)\n",
    "tag_usage = tag_usage.sort_values(by='Count', ascending=False).head(20)\n",
    "print(tag_usage)"
   ]
  },
  {
   "cell_type": "code",
   "execution_count": 6,
   "metadata": {},
   "outputs": [
    {
     "data": {
      "text/plain": [
       "<matplotlib.axes._subplots.AxesSubplot at 0x7f802c98edf0>"
      ]
     },
     "execution_count": 6,
     "metadata": {},
     "output_type": "execute_result"
    },
    {
     "data": {
      "image/png": "[encoded data removed]",
      "text/plain": [
       "<Figure size 1152x576 with 1 Axes>"
      ]
     },
     "metadata": {
      "needs_background": "light"
     },
     "output_type": "display_data"
    }
   ],
   "source": [
    "tag_usage.sort_values(by='Count').plot(kind='barh', figsize=(16,8))"
   ]
  },
  {
   "cell_type": "code",
   "execution_count": 7,
   "metadata": {},
   "outputs": [
    {
     "name": "stdout",
     "output_type": "stream",
     "text": [
      "                   Views\n",
      "python            537585\n",
      "machine-learning  388499\n",
      "keras             268608\n",
      "deep-learning     233628\n",
      "pandas            201787\n",
      "neural-network    185367\n",
      "scikit-learn      128110\n",
      "tensorflow        121369\n",
      "classification    104457\n",
      "dataframe          89352\n",
      "lstm               74458\n",
      "nlp                71382\n",
      "cnn                70349\n",
      "time-series        64134\n",
      "numpy              49767\n",
      "regression         49451\n",
      "dataset            43151\n",
      "pytorch            40240\n",
      "csv                38654\n",
      "clustering         33928\n"
     ]
    }
   ],
   "source": [
    "tag_views = {}\n",
    "\n",
    "for index,row in questions.iterrows():\n",
    "    for tag in row['Tags']:\n",
    "        if tag in tag_views:\n",
    "            tag_views[tag] += row['ViewCount']\n",
    "        else:\n",
    "            tag_views[tag] = row['ViewCount']\n",
    "            \n",
    "tag_views = pd.DataFrame.from_dict(tag_views, orient='index')\n",
    "tag_views.rename(columns={0: 'Views'}, inplace=True)\n",
    "tag_views = tag_views.sort_values(by='Views', ascending=False).head(20)\n",
    "print(tag_views)"
   ]
  },
  {
   "cell_type": "code",
   "execution_count": 8,
   "metadata": {},
   "outputs": [
    {
     "data": {
      "text/plain": [
       "<matplotlib.axes._subplots.AxesSubplot at 0x7f802bf012e0>"
      ]
     },
     "execution_count": 8,
     "metadata": {},
     "output_type": "execute_result"
    },
    {
     "data": {
      "image/png": "[encoded data removed]",
      "text/plain": [
       "<Figure size 1152x576 with 1 Axes>"
      ]
     },
     "metadata": {
      "needs_background": "light"
     },
     "output_type": "display_data"
    }
   ],
   "source": [
    "tag_views.sort_values(by='Views').plot(kind='barh', figsize=(16,8))"
   ]
  },
  {
   "cell_type": "code",
   "execution_count": 9,
   "metadata": {},
   "outputs": [
    {
     "data": {
      "text/plain": [
       "array([<matplotlib.axes._subplots.AxesSubplot object at 0x7f802cd13af0>],\n",
       "      dtype=object)"
      ]
     },
     "execution_count": 9,
     "metadata": {},
     "output_type": "execute_result"
    },
    {
     "data": {
      "image/png": "[encoded data removed]",
      "text/plain": [
       "<Figure size 1728x720 with 2 Axes>"
      ]
     },
     "metadata": {
      "needs_background": "light"
     },
     "output_type": "display_data"
    }
   ],
   "source": [
    "fig, axes = plt.subplots(nrows=1, ncols=2)\n",
    "fig.set_size_inches((24, 10))\n",
    "tag_usage.sort_values(by='Count').plot(kind=\"barh\", ax=axes[0], subplots=True)\n",
    "tag_views.sort_values(by='Views').plot(kind=\"barh\", ax=axes[1], subplots=True)"
   ]
  },
  {
   "cell_type": "code",
   "execution_count": 11,
   "metadata": {},
   "outputs": [
    {
     "name": "stdout",
     "output_type": "stream",
     "text": [
      "                        Count     Views\n",
      "machine-learning         2693  388499.0\n",
      "python                   1814  537585.0\n",
      "deep-learning            1220  233628.0\n",
      "neural-network           1055  185367.0\n",
      "keras                     935  268608.0\n",
      "classification            685  104457.0\n",
      "tensorflow                584  121369.0\n",
      "scikit-learn              540  128110.0\n",
      "nlp                       493   71382.0\n",
      "cnn                       489   70349.0\n",
      "time-series               466   64134.0\n",
      "lstm                      402   74458.0\n",
      "pandas                    354  201787.0\n",
      "regression                347   49451.0\n",
      "dataset                   340   43151.0\n",
      "r                         268       NaN\n",
      "predictive-modeling       265       NaN\n",
      "clustering                257   33928.0\n",
      "statistics                234       NaN\n",
      "machine-learning-model    224       NaN\n"
     ]
    }
   ],
   "source": [
    "in_usage = pd.merge(tag_usage, tag_views, how=\"left\", left_index=True, right_index=True)\n",
    "\n",
    "print(in_usage)"
   ]
  },
  {
   "cell_type": "code",
   "execution_count": 12,
   "metadata": {},
   "outputs": [
    {
     "name": "stdout",
     "output_type": "stream",
     "text": [
      "                   Count   Views\n",
      "python            1814.0  537585\n",
      "machine-learning  2693.0  388499\n",
      "keras              935.0  268608\n",
      "deep-learning     1220.0  233628\n",
      "pandas             354.0  201787\n",
      "neural-network    1055.0  185367\n",
      "scikit-learn       540.0  128110\n",
      "tensorflow         584.0  121369\n",
      "classification     685.0  104457\n",
      "dataframe            NaN   89352\n",
      "lstm               402.0   74458\n",
      "nlp                493.0   71382\n",
      "cnn                489.0   70349\n",
      "time-series        466.0   64134\n",
      "numpy                NaN   49767\n",
      "regression         347.0   49451\n",
      "dataset            340.0   43151\n",
      "pytorch              NaN   40240\n",
      "csv                  NaN   38654\n",
      "clustering         257.0   33928\n"
     ]
    }
   ],
   "source": [
    "in_views = pd.merge(tag_usage, tag_views, how=\"right\", left_index=True, right_index=True)\n",
    "\n",
    "print(in_views)"
   ]
  },
  {
   "cell_type": "markdown",
   "metadata": {},
   "source": [
    "A bit confused by the next few questions so I'm going to explore the solution. So first we're creating a dataframe of the tags, then expore the dataframe."
   ]
  },
  {
   "cell_type": "code",
   "execution_count": 25,
   "metadata": {
    "scrolled": true
   },
   "outputs": [
    {
     "name": "stdout",
     "output_type": "stream",
     "text": [
      "                        machine-learning  python  deep-learning  \\\n",
      "machine-learning                       0       0              0   \n",
      "python                                 0       0              0   \n",
      "deep-learning                          0       0              0   \n",
      "neural-network                         0       0              0   \n",
      "keras                                  0       0              0   \n",
      "classification                         0       0              0   \n",
      "tensorflow                             0       0              0   \n",
      "scikit-learn                           0       0              0   \n",
      "nlp                                    0       0              0   \n",
      "cnn                                    0       0              0   \n",
      "time-series                            0       0              0   \n",
      "lstm                                   0       0              0   \n",
      "pandas                                 0       0              0   \n",
      "regression                             0       0              0   \n",
      "dataset                                0       0              0   \n",
      "r                                      0       0              0   \n",
      "predictive-modeling                    0       0              0   \n",
      "clustering                             0       0              0   \n",
      "statistics                             0       0              0   \n",
      "machine-learning-model                 0       0              0   \n",
      "\n",
      "                        neural-network  keras  classification  tensorflow  \\\n",
      "machine-learning                     0      0               0           0   \n",
      "python                               0      0               0           0   \n",
      "deep-learning                        0      0               0           0   \n",
      "neural-network                       0      0               0           0   \n",
      "keras                                0      0               0           0   \n",
      "classification                       0      0               0           0   \n",
      "tensorflow                           0      0               0           0   \n",
      "scikit-learn                         0      0               0           0   \n",
      "nlp                                  0      0               0           0   \n",
      "cnn                                  0      0               0           0   \n",
      "time-series                          0      0               0           0   \n",
      "lstm                                 0      0               0           0   \n",
      "pandas                               0      0               0           0   \n",
      "regression                           0      0               0           0   \n",
      "dataset                              0      0               0           0   \n",
      "r                                    0      0               0           0   \n",
      "predictive-modeling                  0      0               0           0   \n",
      "clustering                           0      0               0           0   \n",
      "statistics                           0      0               0           0   \n",
      "machine-learning-model               0      0               0           0   \n",
      "\n",
      "                        scikit-learn  nlp  cnn  time-series  lstm  pandas  \\\n",
      "machine-learning                   0    0    0            0     0       0   \n",
      "python                             0    0    0            0     0       0   \n",
      "deep-learning                      0    0    0            0     0       0   \n",
      "neural-network                     0    0    0            0     0       0   \n",
      "keras                              0    0    0            0     0       0   \n",
      "classification                     0    0    0            0     0       0   \n",
      "tensorflow                         0    0    0            0     0       0   \n",
      "scikit-learn                       0    0    0            0     0       0   \n",
      "nlp                                0    0    0            0     0       0   \n",
      "cnn                                0    0    0            0     0       0   \n",
      "time-series                        0    0    0            0     0       0   \n",
      "lstm                               0    0    0            0     0       0   \n",
      "pandas                             0    0    0            0     0       0   \n",
      "regression                         0    0    0            0     0       0   \n",
      "dataset                            0    0    0            0     0       0   \n",
      "r                                  0    0    0            0     0       0   \n",
      "predictive-modeling                0    0    0            0     0       0   \n",
      "clustering                         0    0    0            0     0       0   \n",
      "statistics                         0    0    0            0     0       0   \n",
      "machine-learning-model             0    0    0            0     0       0   \n",
      "\n",
      "                        regression  dataset  r  predictive-modeling  \\\n",
      "machine-learning                 0        0  0                    0   \n",
      "python                           0        0  0                    0   \n",
      "deep-learning                    0        0  0                    0   \n",
      "neural-network                   0        0  0                    0   \n",
      "keras                            0        0  0                    0   \n",
      "classification                   0        0  0                    0   \n",
      "tensorflow                       0        0  0                    0   \n",
      "scikit-learn                     0        0  0                    0   \n",
      "nlp                              0        0  0                    0   \n",
      "cnn                              0        0  0                    0   \n",
      "time-series                      0        0  0                    0   \n",
      "lstm                             0        0  0                    0   \n",
      "pandas                           0        0  0                    0   \n",
      "regression                       0        0  0                    0   \n",
      "dataset                          0        0  0                    0   \n",
      "r                                0        0  0                    0   \n",
      "predictive-modeling              0        0  0                    0   \n",
      "clustering                       0        0  0                    0   \n",
      "statistics                       0        0  0                    0   \n",
      "machine-learning-model           0        0  0                    0   \n",
      "\n",
      "                        clustering  statistics  machine-learning-model  \n",
      "machine-learning                 0           0                       0  \n",
      "python                           0           0                       0  \n",
      "deep-learning                    0           0                       0  \n",
      "neural-network                   0           0                       0  \n",
      "keras                            0           0                       0  \n",
      "classification                   0           0                       0  \n",
      "tensorflow                       0           0                       0  \n",
      "scikit-learn                     0           0                       0  \n",
      "nlp                              0           0                       0  \n",
      "cnn                              0           0                       0  \n",
      "time-series                      0           0                       0  \n",
      "lstm                             0           0                       0  \n",
      "pandas                           0           0                       0  \n",
      "regression                       0           0                       0  \n",
      "dataset                          0           0                       0  \n",
      "r                                0           0                       0  \n",
      "predictive-modeling              0           0                       0  \n",
      "clustering                       0           0                       0  \n",
      "statistics                       0           0                       0  \n",
      "machine-learning-model           0           0                       0  \n"
     ]
    }
   ],
   "source": [
    "all_tags = list(tag_usage.index)\n",
    "\n",
    "tag_associations = pd.DataFrame(index=all_tags, columns=all_tags)\n",
    "tag_associations.fillna(0, inplace=True)\n",
    "\n",
    "'''for tags in questions['Tags']:\n",
    "    tag_associations.loc[tags,tags] += 1'''\n",
    "    \n",
    "print(tag_associations)"
   ]
  },
  {
   "cell_type": "code",
   "execution_count": 27,
   "metadata": {},
   "outputs": [
    {
     "data": {
      "text/html": [
       "<div>\n",
       "<style scoped>\n",
       "    .dataframe tbody tr th:only-of-type {\n",
       "        vertical-align: middle;\n",
       "    }\n",
       "\n",
       "    .dataframe tbody tr th {\n",
       "        vertical-align: top;\n",
       "    }\n",
       "\n",
       "    .dataframe thead th {\n",
       "        text-align: right;\n",
       "    }\n",
       "</style>\n",
       "<table border=\"1\" class=\"dataframe\">\n",
       "  <thead>\n",
       "    <tr style=\"text-align: right;\">\n",
       "      <th></th>\n",
       "      <th>Id</th>\n",
       "      <th>CreationDate</th>\n",
       "      <th>Tags</th>\n",
       "    </tr>\n",
       "  </thead>\n",
       "  <tbody>\n",
       "    <tr>\n",
       "      <th>8</th>\n",
       "      <td>45433</td>\n",
       "      <td>2019-02-12 08:56:23</td>\n",
       "      <td>[python, keras, tensorflow, lstm]</td>\n",
       "    </tr>\n",
       "    <tr>\n",
       "      <th>18725</th>\n",
       "      <td>54731</td>\n",
       "      <td>2019-06-29 04:40:54</td>\n",
       "      <td>[neural-network]</td>\n",
       "    </tr>\n",
       "    <tr>\n",
       "      <th>19258</th>\n",
       "      <td>64871</td>\n",
       "      <td>2019-12-15 12:45:54</td>\n",
       "      <td>[machine-learning, deep-learning, data-mining,...</td>\n",
       "    </tr>\n",
       "    <tr>\n",
       "      <th>1548</th>\n",
       "      <td>25126</td>\n",
       "      <td>2017-11-27 04:55:52</td>\n",
       "      <td>[machine-learning, statistics]</td>\n",
       "    </tr>\n",
       "    <tr>\n",
       "      <th>1506</th>\n",
       "      <td>15296</td>\n",
       "      <td>2016-11-23 00:31:46</td>\n",
       "      <td>[machine-learning, python, classification, sci...</td>\n",
       "    </tr>\n",
       "  </tbody>\n",
       "</table>\n",
       "</div>"
      ],
      "text/plain": [
       "          Id        CreationDate  \\\n",
       "8      45433 2019-02-12 08:56:23   \n",
       "18725  54731 2019-06-29 04:40:54   \n",
       "19258  64871 2019-12-15 12:45:54   \n",
       "1548   25126 2017-11-27 04:55:52   \n",
       "1506   15296 2016-11-23 00:31:46   \n",
       "\n",
       "                                                    Tags  \n",
       "8                      [python, keras, tensorflow, lstm]  \n",
       "18725                                   [neural-network]  \n",
       "19258  [machine-learning, deep-learning, data-mining,...  \n",
       "1548                      [machine-learning, statistics]  \n",
       "1506   [machine-learning, python, classification, sci...  "
      ]
     },
     "execution_count": 27,
     "metadata": {},
     "output_type": "execute_result"
    }
   ],
   "source": [
    "qs_time = pd.read_csv(\"all_questions.csv\", parse_dates=[\"CreationDate\"])\n",
    "\n",
    "qs_time[\"Tags\"] = qs_time[\"Tags\"].str.replace(\"^<|>$\", \"\").str.split(\"><\")\n",
    "\n",
    "qs_time.sample(5)"
   ]
  },
  {
   "cell_type": "code",
   "execution_count": 30,
   "metadata": {},
   "outputs": [
    {
     "data": {
      "text/html": [
       "<div>\n",
       "<style scoped>\n",
       "    .dataframe tbody tr th:only-of-type {\n",
       "        vertical-align: middle;\n",
       "    }\n",
       "\n",
       "    .dataframe tbody tr th {\n",
       "        vertical-align: top;\n",
       "    }\n",
       "\n",
       "    .dataframe thead th {\n",
       "        text-align: right;\n",
       "    }\n",
       "</style>\n",
       "<table border=\"1\" class=\"dataframe\">\n",
       "  <thead>\n",
       "    <tr style=\"text-align: right;\">\n",
       "      <th></th>\n",
       "      <th>Id</th>\n",
       "      <th>CreationDate</th>\n",
       "      <th>Tags</th>\n",
       "      <th>Deep_Learning</th>\n",
       "    </tr>\n",
       "  </thead>\n",
       "  <tbody>\n",
       "    <tr>\n",
       "      <th>17987</th>\n",
       "      <td>54187</td>\n",
       "      <td>2019-06-21 02:09:19</td>\n",
       "      <td>[deep-learning, image-classification, gan]</td>\n",
       "      <td>1</td>\n",
       "    </tr>\n",
       "    <tr>\n",
       "      <th>81</th>\n",
       "      <td>69</td>\n",
       "      <td>2014-05-14 20:03:15</td>\n",
       "      <td>[processing]</td>\n",
       "      <td>0</td>\n",
       "    </tr>\n",
       "    <tr>\n",
       "      <th>20935</th>\n",
       "      <td>66264</td>\n",
       "      <td>2020-01-10 11:08:35</td>\n",
       "      <td>[python]</td>\n",
       "      <td>0</td>\n",
       "    </tr>\n",
       "    <tr>\n",
       "      <th>6114</th>\n",
       "      <td>58037</td>\n",
       "      <td>2019-08-22 17:43:16</td>\n",
       "      <td>[deep-learning, object-detection, yolo]</td>\n",
       "      <td>1</td>\n",
       "    </tr>\n",
       "    <tr>\n",
       "      <th>3407</th>\n",
       "      <td>25989</td>\n",
       "      <td>2017-12-25 15:32:16</td>\n",
       "      <td>[python, visualization, word2vec, word-embeddi...</td>\n",
       "      <td>0</td>\n",
       "    </tr>\n",
       "  </tbody>\n",
       "</table>\n",
       "</div>"
      ],
      "text/plain": [
       "          Id        CreationDate  \\\n",
       "17987  54187 2019-06-21 02:09:19   \n",
       "81        69 2014-05-14 20:03:15   \n",
       "20935  66264 2020-01-10 11:08:35   \n",
       "6114   58037 2019-08-22 17:43:16   \n",
       "3407   25989 2017-12-25 15:32:16   \n",
       "\n",
       "                                                    Tags  Deep_Learning  \n",
       "17987         [deep-learning, image-classification, gan]              1  \n",
       "81                                          [processing]              0  \n",
       "20935                                           [python]              0  \n",
       "6114             [deep-learning, object-detection, yolo]              1  \n",
       "3407   [python, visualization, word2vec, word-embeddi...              0  "
      ]
     },
     "execution_count": 30,
     "metadata": {},
     "output_type": "execute_result"
    }
   ],
   "source": [
    "def deep_learning(tags):\n",
    "    for tag in tags:\n",
    "        if tag in ['lstm', 'cnn', 'scikit-learn', 'tensorflow', 'keras', 'neural-network', 'deep-learning']:\n",
    "            return 1\n",
    "    return 0\n",
    "    \n",
    "qs_time['Deep_Learning'] = qs_time['Tags'].apply(deep_learning)\n",
    "\n",
    "qs_time.sample(5)"
   ]
  },
  {
   "cell_type": "code",
   "execution_count": 31,
   "metadata": {},
   "outputs": [
    {
     "data": {
      "text/html": [
       "<div>\n",
       "<style scoped>\n",
       "    .dataframe tbody tr th:only-of-type {\n",
       "        vertical-align: middle;\n",
       "    }\n",
       "\n",
       "    .dataframe tbody tr th {\n",
       "        vertical-align: top;\n",
       "    }\n",
       "\n",
       "    .dataframe thead th {\n",
       "        text-align: right;\n",
       "    }\n",
       "</style>\n",
       "<table border=\"1\" class=\"dataframe\">\n",
       "  <thead>\n",
       "    <tr style=\"text-align: right;\">\n",
       "      <th></th>\n",
       "      <th>Id</th>\n",
       "      <th>CreationDate</th>\n",
       "      <th>Tags</th>\n",
       "      <th>Deep_Learning</th>\n",
       "      <th>Quarter</th>\n",
       "    </tr>\n",
       "  </thead>\n",
       "  <tbody>\n",
       "    <tr>\n",
       "      <th>18776</th>\n",
       "      <td>64619</td>\n",
       "      <td>2019-12-11 08:44:38</td>\n",
       "      <td>[python, object-detection, ocr]</td>\n",
       "      <td>0</td>\n",
       "      <td>19Q4</td>\n",
       "    </tr>\n",
       "    <tr>\n",
       "      <th>10917</th>\n",
       "      <td>42376</td>\n",
       "      <td>2018-12-10 01:18:46</td>\n",
       "      <td>[classification, data-mining, k-nn]</td>\n",
       "      <td>0</td>\n",
       "      <td>18Q4</td>\n",
       "    </tr>\n",
       "    <tr>\n",
       "      <th>18964</th>\n",
       "      <td>54789</td>\n",
       "      <td>2019-06-30 14:36:58</td>\n",
       "      <td>[machine-learning, predictive-modeling, algori...</td>\n",
       "      <td>0</td>\n",
       "      <td>19Q2</td>\n",
       "    </tr>\n",
       "    <tr>\n",
       "      <th>9</th>\n",
       "      <td>45434</td>\n",
       "      <td>2019-02-12 09:09:01</td>\n",
       "      <td>[neural-network, feature-selection, mlp]</td>\n",
       "      <td>1</td>\n",
       "      <td>19Q1</td>\n",
       "    </tr>\n",
       "    <tr>\n",
       "      <th>4134</th>\n",
       "      <td>26256</td>\n",
       "      <td>2018-01-04 03:49:53</td>\n",
       "      <td>[machine-learning, deep-learning, predictive-m...</td>\n",
       "      <td>1</td>\n",
       "      <td>18Q1</td>\n",
       "    </tr>\n",
       "  </tbody>\n",
       "</table>\n",
       "</div>"
      ],
      "text/plain": [
       "          Id        CreationDate  \\\n",
       "18776  64619 2019-12-11 08:44:38   \n",
       "10917  42376 2018-12-10 01:18:46   \n",
       "18964  54789 2019-06-30 14:36:58   \n",
       "9      45434 2019-02-12 09:09:01   \n",
       "4134   26256 2018-01-04 03:49:53   \n",
       "\n",
       "                                                    Tags  Deep_Learning  \\\n",
       "18776                    [python, object-detection, ocr]              0   \n",
       "10917                [classification, data-mining, k-nn]              0   \n",
       "18964  [machine-learning, predictive-modeling, algori...              0   \n",
       "9               [neural-network, feature-selection, mlp]              1   \n",
       "4134   [machine-learning, deep-learning, predictive-m...              1   \n",
       "\n",
       "      Quarter  \n",
       "18776    19Q4  \n",
       "10917    18Q4  \n",
       "18964    19Q2  \n",
       "9        19Q1  \n",
       "4134     18Q1  "
      ]
     },
     "execution_count": 31,
     "metadata": {},
     "output_type": "execute_result"
    }
   ],
   "source": [
    "def fetch_quarter(datetime):\n",
    "    year = str(datetime.year)[-2:]\n",
    "    quarter = str(((datetime.month-1) // 3) + 1)\n",
    "    return \"{y}Q{q}\".format(y=year, q=quarter)\n",
    "\n",
    "qs_time[\"Quarter\"] = qs_time[\"CreationDate\"].apply(fetch_quarter)\n",
    "\n",
    "qs_time.sample(5)"
   ]
  },
  {
   "cell_type": "code",
   "execution_count": 33,
   "metadata": {},
   "outputs": [
    {
     "data": {
      "text/html": [
       "<div>\n",
       "<style scoped>\n",
       "    .dataframe tbody tr th:only-of-type {\n",
       "        vertical-align: middle;\n",
       "    }\n",
       "\n",
       "    .dataframe tbody tr th {\n",
       "        vertical-align: top;\n",
       "    }\n",
       "\n",
       "    .dataframe thead th {\n",
       "        text-align: right;\n",
       "    }\n",
       "</style>\n",
       "<table border=\"1\" class=\"dataframe\">\n",
       "  <thead>\n",
       "    <tr style=\"text-align: right;\">\n",
       "      <th></th>\n",
       "      <th>Quarter</th>\n",
       "      <th>DeepLearningQuestions</th>\n",
       "      <th>TotalQuestions</th>\n",
       "      <th>DeepLearningRate</th>\n",
       "    </tr>\n",
       "  </thead>\n",
       "  <tbody>\n",
       "    <tr>\n",
       "      <th>20</th>\n",
       "      <td>19Q2</td>\n",
       "      <td>935</td>\n",
       "      <td>2393</td>\n",
       "      <td>0.390723</td>\n",
       "    </tr>\n",
       "    <tr>\n",
       "      <th>1</th>\n",
       "      <td>14Q3</td>\n",
       "      <td>13</td>\n",
       "      <td>189</td>\n",
       "      <td>0.068783</td>\n",
       "    </tr>\n",
       "    <tr>\n",
       "      <th>17</th>\n",
       "      <td>18Q3</td>\n",
       "      <td>685</td>\n",
       "      <td>1512</td>\n",
       "      <td>0.453042</td>\n",
       "    </tr>\n",
       "    <tr>\n",
       "      <th>2</th>\n",
       "      <td>14Q4</td>\n",
       "      <td>21</td>\n",
       "      <td>216</td>\n",
       "      <td>0.097222</td>\n",
       "    </tr>\n",
       "    <tr>\n",
       "      <th>5</th>\n",
       "      <td>15Q3</td>\n",
       "      <td>45</td>\n",
       "      <td>311</td>\n",
       "      <td>0.144695</td>\n",
       "    </tr>\n",
       "  </tbody>\n",
       "</table>\n",
       "</div>"
      ],
      "text/plain": [
       "   Quarter  DeepLearningQuestions  TotalQuestions  DeepLearningRate\n",
       "20    19Q2                    935            2393          0.390723\n",
       "1     14Q3                     13             189          0.068783\n",
       "17    18Q3                    685            1512          0.453042\n",
       "2     14Q4                     21             216          0.097222\n",
       "5     15Q3                     45             311          0.144695"
      ]
     },
     "execution_count": 33,
     "metadata": {},
     "output_type": "execute_result"
    }
   ],
   "source": [
    "quarterly = qs_time.groupby('Quarter').agg({\"Deep_Learning\": ['sum', 'size']})\n",
    "quarterly.columns = ['DeepLearningQuestions', 'TotalQuestions']\n",
    "quarterly[\"DeepLearningRate\"] = quarterly[\"DeepLearningQuestions\"]\\\n",
    "                                /quarterly[\"TotalQuestions\"]\n",
    "# The following is done to help with visualizations later.\n",
    "quarterly.reset_index(inplace=True)\n",
    "quarterly.sample(5)"
   ]
  },
  {
   "cell_type": "code",
   "execution_count": 34,
   "metadata": {},
   "outputs": [
    {
     "data": {
      "image/png": "[encoded data removed]",
      "text/plain": [
       "<Figure size 1728x864 with 2 Axes>"
      ]
     },
     "metadata": {
      "needs_background": "light"
     },
     "output_type": "display_data"
    }
   ],
   "source": [
    "ax1 = quarterly.plot(x=\"Quarter\", y=\"DeepLearningRate\",\n",
    "                    kind=\"line\", linestyle=\"-\", marker=\"o\", color=\"orange\",\n",
    "                    figsize=(24,12)\n",
    "                    )\n",
    "\n",
    "ax2 = quarterly.plot(x=\"Quarter\", y=\"TotalQuestions\",\n",
    "                     kind=\"bar\", ax=ax1, secondary_y=True, alpha=0.7, rot=45)\n",
    "\n",
    "for idx, t in quarterly[\"TotalQuestions\"].iteritems():\n",
    "    ax2.text(idx, t, str(t), ha=\"center\", va=\"bottom\")\n",
    "xlims = ax1.get_xlim()\n",
    "\n",
    "ax1.get_legend().remove()\n",
    "\n",
    "handles1, labels1 = ax1.get_legend_handles_labels()\n",
    "handles2, labels2 = ax2.get_legend_handles_labels()\n",
    "ax1.legend(handles=handles1 + handles2,\n",
    "           labels=labels1 + labels2,\n",
    "           loc=\"upper left\", prop={\"size\": 12})\n",
    "\n",
    "\n",
    "for ax in (ax1, ax2):\n",
    "    for where in (\"top\", \"right\"):\n",
    "        ax.spines[where].set_visible(False)\n",
    "        ax.tick_params(right=False, labelright=False)"
   ]
  },
  {
   "cell_type": "code",
   "execution_count": null,
   "metadata": {},
   "outputs": [],
   "source": []
  }
 ],
 "metadata": {
  "kernelspec": {
   "display_name": "Python 3",
   "language": "python",
   "name": "python3"
  },
  "language_info": {
   "codemirror_mode": {
    "name": "ipython",
    "version": 3
   },
   "file_extension": ".py",
   "mimetype": "text/x-python",
   "name": "python",
   "nbconvert_exporter": "python",
   "pygments_lexer": "ipython3",
   "version": "3.8.3"
  }
 },
 "nbformat": 4,
 "nbformat_minor": 2
}
