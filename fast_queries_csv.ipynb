{
 "cells": [
  {
   "cell_type": "markdown",
   "metadata": {},
   "source": [
    "# Building Fast Queries on a CSV\n",
    "\n",
    "Excercise to practice writing fast queries on CSV.\n",
    "\n",
    "## Brief description\n",
    "\n",
    "Data is a csv file (from Kaggle) of laptops descriptions and prices. \n",
    "\n",
    "Description of the rows:\n",
    "\n",
    "* **ID:** A unique identifier for the laptop.\n",
    "* **Company:** The name of the company that produces the laptop.\n",
    "* **Product:** The name of the laptop.\n",
    "* **TypeName:** The type of laptop.\n",
    "* **Inches:** The size of the screen in inches.\n",
    "* **ScreenResolution:** The resolution of the screen.\n",
    "* **CPU:** The laptop CPU.\n",
    "* **RAM:** The amount of RAM in the laptop.\n",
    "* **Memory:** The size of the hard drive.\n",
    "* **GPU:** The graphics card name.\n",
    "* **OpSys:** The name of the operating system.\n",
    "* **Weight:** The laptop weight.\n",
    "* **Price:** The price of the laptop."
   ]
  },
  {
   "cell_type": "code",
   "execution_count": 1,
   "metadata": {},
   "outputs": [
    {
     "name": "stdout",
     "output_type": "stream",
     "text": [
      "['Id', 'Company', 'Product', 'TypeName', 'Inches', 'ScreenResolution', 'Cpu', 'Ram', 'Memory', 'Gpu', 'OpSys', 'Weight', 'Price']\n",
      "\n",
      "[['6571244', 'Apple', 'MacBook Pro', 'Ultrabook', '13.3', 'IPS Panel Retina Display 2560x1600', 'Intel Core i5 2.3GHz', '8GB', '128GB SSD', 'Intel Iris Plus Graphics 640', 'macOS', '1.37kg', '1339'], ['7287764', 'Apple', 'Macbook Air', 'Ultrabook', '13.3', '1440x900', 'Intel Core i5 1.8GHz', '8GB', '128GB Flash Storage', 'Intel HD Graphics 6000', 'macOS', '1.34kg', '898'], ['3362737', 'HP', '250 G6', 'Notebook', '15.6', 'Full HD 1920x1080', 'Intel Core i5 7200U 2.5GHz', '8GB', '256GB SSD', 'Intel HD Graphics 620', 'No OS', '1.86kg', '575'], ['9722156', 'Apple', 'MacBook Pro', 'Ultrabook', '15.4', 'IPS Panel Retina Display 2880x1800', 'Intel Core i7 2.7GHz', '16GB', '512GB SSD', 'AMD Radeon Pro 455', 'macOS', '1.83kg', '2537'], ['8550527', 'Apple', 'MacBook Pro', 'Ultrabook', '13.3', 'IPS Panel Retina Display 2560x1600', 'Intel Core i5 3.1GHz', '8GB', '256GB SSD', 'Intel Iris Plus Graphics 650', 'macOS', '1.37kg', '1803']]\n"
     ]
    }
   ],
   "source": [
    "# Read the data\n",
    "import csv\n",
    "\n",
    "with open('laptops.csv') as file:\n",
    "    reader = csv.reader(file)\n",
    "    rows = list(reader)\n",
    "    header = rows[0]\n",
    "    rows = rows[1:]\n",
    "    \n",
    "print(header)\n",
    "print('')\n",
    "print(rows[:5])"
   ]
  },
  {
   "cell_type": "markdown",
   "metadata": {},
   "source": [
    "## Inventory Class\n",
    "Goal is to create a class that represents the inventory. \n",
    "\n",
    "Requirements\n",
    "* Given a laptop id, find the corresponding data.\n",
    "* Given an amount of money, find whether there are two laptops whose total price is that given amount.\n",
    "* Identify all laptops whose price falls within a given budget."
   ]
  },
  {
   "cell_type": "code",
   "execution_count": 2,
   "metadata": {},
   "outputs": [
    {
     "name": "stdout",
     "output_type": "stream",
     "text": [
      "['Id', 'Company', 'Product', 'TypeName', 'Inches', 'ScreenResolution', 'Cpu', 'Ram', 'Memory', 'Gpu', 'OpSys', 'Weight', 'Price']\n",
      "1303\n"
     ]
    }
   ],
   "source": [
    "# Create the initial class\n",
    "class Inventory():\n",
    "    \n",
    "    def __init__(self, csv_filename):\n",
    "        with open(csv_filename) as file:\n",
    "            reader = csv.reader(file)\n",
    "            rows = list(reader)\n",
    "        self.header = rows[0]\n",
    "        self.rows = rows[1:]\n",
    "        for row in self.rows:\n",
    "            row[-1] = int(row[-1])\n",
    "\n",
    "# Test the class\n",
    "inventory = Inventory('laptops.csv')\n",
    "print(inventory.header)\n",
    "print(len(inventory.rows))"
   ]
  },
  {
   "cell_type": "markdown",
   "metadata": {},
   "source": [
    "## Laptop ID Lookup"
   ]
  },
  {
   "cell_type": "code",
   "execution_count": 3,
   "metadata": {},
   "outputs": [
    {
     "name": "stdout",
     "output_type": "stream",
     "text": [
      "['3362737', 'HP', '250 G6', 'Notebook', '15.6', 'Full HD 1920x1080', 'Intel Core i5 7200U 2.5GHz', '8GB', '256GB SSD', 'Intel HD Graphics 620', 'No OS', '1.86kg', 575]\n",
      "None\n",
      "1303\n"
     ]
    }
   ],
   "source": [
    "# Create a function to retrieve the laptop from the id\n",
    "class Inventory():\n",
    "    \n",
    "    def __init__(self, csv_filename):\n",
    "        with open(csv_filename) as file:\n",
    "            reader = csv.reader(file)\n",
    "            rows = list(reader)\n",
    "        self.header = rows[0]\n",
    "        self.rows = rows[1:]\n",
    "        for row in self.rows:\n",
    "            row[-1] = int(row[-1])\n",
    "            \n",
    "    def get_laptop_from_id(self, laptop_id):\n",
    "        for row in self.rows:\n",
    "            if row[0] == laptop_id:\n",
    "                return row\n",
    "        return None\n",
    "\n",
    "# Test the function\n",
    "inventory = Inventory('laptops.csv')\n",
    "print(inventory.get_laptop_from_id('3362737'))\n",
    "print(inventory.get_laptop_from_id('3362736'))\n",
    "print(len(inventory.rows))"
   ]
  },
  {
   "cell_type": "markdown",
   "metadata": {},
   "source": [
    "### Improve lookup with Preprocessing\n",
    "The time complexity of the algorithm in the id lookup function is O(R) where R is the number of rows. We can decrease the time comoplexity by preprocessing the data (using a set or dictionary). In this case, we'll use a dictionary, which allows us to associate the id with its row (value and key)."
   ]
  },
  {
   "cell_type": "code",
   "execution_count": 4,
   "metadata": {},
   "outputs": [
    {
     "name": "stdout",
     "output_type": "stream",
     "text": [
      "['3362737', 'HP', '250 G6', 'Notebook', '15.6', 'Full HD 1920x1080', 'Intel Core i5 7200U 2.5GHz', '8GB', '256GB SSD', 'Intel HD Graphics 620', 'No OS', '1.86kg', 575]\n",
      "None\n"
     ]
    }
   ],
   "source": [
    "# Preprocess the data by adding a dictionary to the __init__ method\n",
    "# Then create a function to use that dictionary.\n",
    "class Inventory():\n",
    "    \n",
    "    def __init__(self, csv_filename):\n",
    "        with open(csv_filename) as file:\n",
    "            reader = csv.reader(file)\n",
    "            rows = list(reader)\n",
    "        self.header = rows[0]\n",
    "        self.rows = rows[1:]\n",
    "        for row in self.rows:\n",
    "            row[-1] = int(row[-1])\n",
    "        # Add Dictionary here\n",
    "        self.id_to_row = {}\n",
    "        for row in self.rows:\n",
    "            self.id_to_row[row[0]] = row\n",
    "            \n",
    "    def get_laptop_from_id_fast(self, laptop_id):\n",
    "        # Function only requires lookup in the dicitonary\n",
    "        if laptop_id in self.id_to_row:\n",
    "            return self.id_to_row[laptop_id]\n",
    "        return None\n",
    "    \n",
    "    def get_laptop_from_id(self, laptop_id):\n",
    "        for row in self.rows:\n",
    "            if row[0] == laptop_id:\n",
    "                return row\n",
    "        return None\n",
    "    \n",
    "# Test the function\n",
    "inventory = Inventory('laptops.csv')\n",
    "print(inventory.get_laptop_from_id_fast('3362737'))\n",
    "print(inventory.get_laptop_from_id_fast('3362736'))"
   ]
  },
  {
   "cell_type": "markdown",
   "metadata": {},
   "source": [
    "### Results of Preprocessing\n",
    "The new lookup method has time complexity of O(1) (as compared to O(R) for the previous method), but it requires some additional memory and time creating the instance (because it creates a dictionary). The following will test the improvement using random numbers."
   ]
  },
  {
   "cell_type": "code",
   "execution_count": 5,
   "metadata": {},
   "outputs": [
    {
     "name": "stdout",
     "output_type": "stream",
     "text": [
      "Without Preprocessing:  0.5610618591308594\n",
      "Preprocessing:  0.0024056434631347656\n",
      "Time difference:  0.5586562156677246\n",
      "Improvement:  233.23 times better\n"
     ]
    }
   ],
   "source": [
    "import time\n",
    "import random\n",
    "\n",
    "# Creating random ids for testing\n",
    "ids = [str(random.randint(1000000, 9999999)) for _ in range(10000)]\n",
    "\n",
    "# Create instance of the inventory\n",
    "inventory = Inventory('laptops.csv')\n",
    "\n",
    "# Find the time without preprocessing\n",
    "total_time_no_dict = 0\n",
    "\n",
    "for val in ids:\n",
    "    start = time.time()\n",
    "    inventory.get_laptop_from_id(val)\n",
    "    end = time.time()\n",
    "    total_time_no_dict += end - start\n",
    "    \n",
    "# Find the tiem with preprocessing\n",
    "total_time_dict = 0\n",
    "\n",
    "for val in ids:\n",
    "    start = time.time()\n",
    "    inventory.get_laptop_from_id_fast(val)\n",
    "    end = time.time()\n",
    "    total_time_dict += end - start\n",
    "    \n",
    "print('Without Preprocessing: ', total_time_no_dict)\n",
    "print('Preprocessing: ', total_time_dict)\n",
    "print('Time difference: ', total_time_no_dict - total_time_dict)\n",
    "print('Improvement: ', round(total_time_no_dict / total_time_dict, 2), 'times better')"
   ]
  },
  {
   "cell_type": "markdown",
   "metadata": {},
   "source": [
    "## Price Lookup\n",
    "In this hypothetical case, the store needs to lookup the price of laptops to ensure that any gift card issued can purchase one or two laptops in the inventory without leaving any remainder. The first function will make a simple price lookup with these constraints."
   ]
  },
  {
   "cell_type": "code",
   "execution_count": 6,
   "metadata": {
    "scrolled": true
   },
   "outputs": [
    {
     "name": "stdout",
     "output_type": "stream",
     "text": [
      "True\n",
      "False\n"
     ]
    }
   ],
   "source": [
    "class Inventory():\n",
    "    \n",
    "    def __init__(self, csv_filename):\n",
    "        with open(csv_filename) as file:\n",
    "            reader = csv.reader(file)\n",
    "            rows = list(reader)\n",
    "        self.header = rows[0]\n",
    "        self.rows = rows[1:]\n",
    "        for row in self.rows:\n",
    "            row[-1] = int(row[-1])\n",
    "        self.id_to_row = {}\n",
    "        for row in self.rows:\n",
    "            self.id_to_row[row[0]] = row\n",
    "            \n",
    "    def get_laptop_from_id_fast(self, laptop_id):\n",
    "        # Function only requires lookup in the dicitonary\n",
    "        if laptop_id in self.id_to_row:\n",
    "            return self.id_to_row[laptop_id]\n",
    "        return None\n",
    "    \n",
    "    def get_laptop_from_id(self, laptop_id):\n",
    "        for row in self.rows:\n",
    "            if row[0] == laptop_id:\n",
    "                return row\n",
    "        return None\n",
    "    \n",
    "    # Function for price lookup follows\n",
    "    def check_promotion_dollars(self, dollars):\n",
    "        # Matches the price of one laptop\n",
    "        for row in self.rows:\n",
    "            if row[-1] == dollars:\n",
    "                return True\n",
    "        # Matches the price of two laptops\n",
    "        for row1 in self.rows:\n",
    "            for row2 in self.rows:\n",
    "                if row1[-1] + row2[-1] == dollars:\n",
    "                    return True\n",
    "        return False\n",
    "    \n",
    "# Test the function\n",
    "inventory = Inventory('laptops.csv')\n",
    "print(inventory.check_promotion_dollars(1000))\n",
    "print(inventory.check_promotion_dollars(442))"
   ]
  },
  {
   "cell_type": "markdown",
   "metadata": {},
   "source": [
    "### Improve Price Lookup with Preprocessing\n",
    "By creating a set for prices when initializing the class, we can preprocess the data and improve the speed of the function."
   ]
  },
  {
   "cell_type": "code",
   "execution_count": 7,
   "metadata": {},
   "outputs": [
    {
     "name": "stdout",
     "output_type": "stream",
     "text": [
      "True\n",
      "False\n"
     ]
    }
   ],
   "source": [
    "# Add a set for preprocessing price lookup\n",
    "class Inventory():\n",
    "    \n",
    "    def __init__(self, csv_filename):\n",
    "        with open(csv_filename) as file:\n",
    "            reader = csv.reader(file)\n",
    "            rows = list(reader)\n",
    "        self.header = rows[0]\n",
    "        self.rows = rows[1:]\n",
    "        for row in self.rows:\n",
    "            row[-1] = int(row[-1])\n",
    "        # Dictiorary for ids\n",
    "        self.id_to_row = {}\n",
    "        for row in self.rows:\n",
    "            self.id_to_row[row[0]] = row\n",
    "        # Set for prices\n",
    "        self.prices = set()\n",
    "        for row in self.rows:\n",
    "            self.prices.add(row[-1])\n",
    "            \n",
    "    def get_laptop_from_id_fast(self, laptop_id):\n",
    "        # Function only requires lookup in the dicitonary\n",
    "        if laptop_id in self.id_to_row:\n",
    "            return self.id_to_row[laptop_id]\n",
    "        return None\n",
    "    \n",
    "    def get_laptop_from_id(self, laptop_id):\n",
    "        for row in self.rows:\n",
    "            if row[0] == laptop_id:\n",
    "                return row\n",
    "        return None\n",
    "    \n",
    "    def check_promotion_dollars(self, dollars):\n",
    "        # Matches the price of one laptop\n",
    "        for row in self.rows:\n",
    "            if row[-1] == dollars:\n",
    "                return True\n",
    "        # Matches the price of two laptops\n",
    "        for row1 in self.rows:\n",
    "            for row2 in self.rows:\n",
    "                if row1[-1] + row2[-1] == dollars:\n",
    "                    return True\n",
    "        return False\n",
    "    \n",
    "    def check_promotion_dollars_fast(self, dollars):\n",
    "        # Matches price of one laptop\n",
    "        if dollars in self.prices:\n",
    "            return True\n",
    "        # Matches price of two laptops\n",
    "        for val in self.prices:\n",
    "            if dollars - val in self.prices:\n",
    "                return True\n",
    "        return False\n",
    "\n",
    "# Test the function\n",
    "inventory = Inventory('laptops.csv')\n",
    "print(inventory.check_promotion_dollars_fast(1000))\n",
    "print(inventory.check_promotion_dollars_fast(442))"
   ]
  },
  {
   "cell_type": "markdown",
   "metadata": {},
   "source": [
    "### Results of preprocessing\n",
    "The following will measure the improvement results of adding preprocessing."
   ]
  },
  {
   "cell_type": "code",
   "execution_count": 8,
   "metadata": {},
   "outputs": [
    {
     "name": "stdout",
     "output_type": "stream",
     "text": [
      "Without Preprocessing:  0.6684751510620117\n",
      "Preprocessing:  0.00038623809814453125\n",
      "Time difference:  0.6680889129638672\n",
      "Improvement:  1730.73 times better\n"
     ]
    }
   ],
   "source": [
    "# Creating random prices for testing\n",
    "prices = [random.randint(100, 5000) for _ in range(100)]\n",
    "\n",
    "# Create instance of the inventory\n",
    "inventory = Inventory('laptops.csv')\n",
    "\n",
    "# Find the time without preprocessing\n",
    "total_time_no_set = 0\n",
    "\n",
    "for price in prices:\n",
    "    start = time.time()\n",
    "    inventory.check_promotion_dollars(price)\n",
    "    end = time.time()\n",
    "    total_time_no_set += end - start\n",
    "    \n",
    "# Find the tiem with preprocessing\n",
    "total_time_set = 0\n",
    "\n",
    "for price in prices:\n",
    "    start = time.time()\n",
    "    inventory.check_promotion_dollars_fast(price)\n",
    "    end = time.time()\n",
    "    total_time_set += end - start\n",
    "    \n",
    "print('Without Preprocessing: ', total_time_no_set)\n",
    "print('Preprocessing: ', total_time_set)\n",
    "print('Time difference: ', total_time_no_set - total_time_set)\n",
    "print('Improvement: ', round(total_time_no_set / total_time_set, 2), 'times better')"
   ]
  },
  {
   "cell_type": "markdown",
   "metadata": {},
   "source": [
    "## Find Laptops within Budget\n",
    "Create a function for finding all laptops within a given budget. First, sort the inventory by price. Then, use binary search to find where a given budget falls in the inventory."
   ]
  },
  {
   "cell_type": "code",
   "execution_count": 9,
   "metadata": {},
   "outputs": [],
   "source": [
    "# Function for finding the price in a row\n",
    "def row_price(row):\n",
    "    return row[-1]\n",
    "\n",
    "# Sorting the inventory by price\n",
    "class Inventory():\n",
    "    \n",
    "    def __init__(self, csv_filename):\n",
    "        with open(csv_filename) as file:\n",
    "            reader = csv.reader(file)\n",
    "            rows = list(reader)\n",
    "        self.header = rows[0]\n",
    "        self.rows = rows[1:]\n",
    "        for row in self.rows:\n",
    "            row[-1] = int(row[-1])\n",
    "        # Dictiorary for ids\n",
    "        self.id_to_row = {}\n",
    "        for row in self.rows:\n",
    "            self.id_to_row[row[0]] = row\n",
    "        # Set for prices\n",
    "        self.prices = set()\n",
    "        for row in self.rows:\n",
    "            self.prices.add(row[-1])\n",
    "        # Sort rows by price using row_price as key\n",
    "        self.rows_by_price = sorted(self.rows, key=row_price)\n",
    "            \n",
    "    def get_laptop_from_id_fast(self, laptop_id):\n",
    "        # Function only requires lookup in the dicitonary\n",
    "        if laptop_id in self.id_to_row:\n",
    "            return self.id_to_row[laptop_id]\n",
    "        return None\n",
    "    \n",
    "    def get_laptop_from_id(self, laptop_id):\n",
    "        for row in self.rows:\n",
    "            if row[0] == laptop_id:\n",
    "                return row\n",
    "        return None\n",
    "    \n",
    "    def check_promotion_dollars(self, dollars):\n",
    "        # Matches the price of one laptop\n",
    "        for row in self.rows:\n",
    "            if row[-1] == dollars:\n",
    "                return True\n",
    "        # Matches the price of two laptops\n",
    "        for row1 in self.rows:\n",
    "            for row2 in self.rows:\n",
    "                if row1[-1] + row2[-1] == dollars:\n",
    "                    return True\n",
    "        return False\n",
    "    \n",
    "    def check_promotion_dollars_fast(self, dollars):\n",
    "        # Matches price of one laptop\n",
    "        if dollars in self.prices:\n",
    "            return True\n",
    "        # Matches price of two laptops\n",
    "        for val in self.prices:\n",
    "            if dollars - val in self.prices:\n",
    "                return True\n",
    "        return False\n",
    "    \n",
    "    # Function for finding first laptop in inventory more expensive than budget\n",
    "    def find_first_laptop_more_expensive(self, target_price):\n",
    "        row_start = 0\n",
    "        row_end = len(self.rows_by_price) - 1\n",
    "        while row_start < row_end:\n",
    "            row_middle = (row_end + row_start) // 2\n",
    "            price = self.rows_by_price[row_middle][-1]\n",
    "            if price > target_price:\n",
    "                row_end = row_middle\n",
    "            else:\n",
    "                row_start = row_middle + 1\n",
    "        if self.rows_by_price[row_start][-1] <= target_price:\n",
    "            return -1\n",
    "        return row_start"
   ]
  },
  {
   "cell_type": "code",
   "execution_count": 10,
   "metadata": {},
   "outputs": [
    {
     "name": "stdout",
     "output_type": "stream",
     "text": [
      "683\n",
      "-1\n"
     ]
    }
   ],
   "source": [
    "# Test the function\n",
    "inventory = Inventory('laptops.csv')\n",
    "print(inventory.find_first_laptop_more_expensive(1000))\n",
    "print(inventory.find_first_laptop_more_expensive(10000))"
   ]
  },
  {
   "cell_type": "markdown",
   "metadata": {},
   "source": [
    "## Conclusion\n",
    "This exercise showed how preprocessing data can vastly improve the speed of lookup functions, and how to use a binary search algorithm for a function (in this case, finding how many laptops fall under a given budget)."
   ]
  }
 ],
 "metadata": {
  "kernelspec": {
   "display_name": "Python 3",
   "language": "python",
   "name": "python3"
  },
  "language_info": {
   "codemirror_mode": {
    "name": "ipython",
    "version": 3
   },
   "file_extension": ".py",
   "mimetype": "text/x-python",
   "name": "python",
   "nbconvert_exporter": "python",
   "pygments_lexer": "ipython3",
   "version": "3.8.5"
  }
 },
 "nbformat": 4,
 "nbformat_minor": 2
}
