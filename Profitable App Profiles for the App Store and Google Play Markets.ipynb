{
 "cells": [
  {
   "cell_type": "markdown",
   "metadata": {},
   "source": [
    "# Profitable App Profiles for iOS and Android\n",
    "\n",
    "Will introduce the project here. Goals etc."
   ]
  },
  {
   "cell_type": "markdown",
   "metadata": {},
   "source": [
    "The following cells will open the data files we have for iOS and Android and display and overview"
   ]
  },
  {
   "cell_type": "code",
   "execution_count": 1,
   "metadata": {},
   "outputs": [],
   "source": [
    "# Creating a function to explore the datasets we have.\n",
    "def explore_data(dataset, start, end, rows_and_columns=False):\n",
    "    dataset_slice = dataset[start:end]    \n",
    "    for row in dataset_slice:\n",
    "        print(row)\n",
    "        print('\\n') # adds a new (empty) line after each row\n",
    "\n",
    "    if rows_and_columns:\n",
    "        print('Number of rows:', len(dataset))\n",
    "        print('Number of columns:', len(dataset[0]))"
   ]
  },
  {
   "cell_type": "code",
   "execution_count": 2,
   "metadata": {},
   "outputs": [
    {
     "name": "stdout",
     "output_type": "stream",
     "text": [
      "['', 'id', 'track_name', 'size_bytes', 'currency', 'price', 'rating_count_tot', 'rating_count_ver', 'user_rating', 'user_rating_ver', 'ver', 'cont_rating', 'prime_genre', 'sup_devices.num', 'ipadSc_urls.num', 'lang.num', 'vpp_lic']\n",
      "\n",
      "\n",
      "['1', '281656475', 'PAC-MAN Premium', '100788224', 'USD', '3.99', '21292', '26', '4', '4.5', '6.3.5', '4+', 'Games', '38', '5', '10', '1']\n",
      "\n",
      "\n",
      "['2', '281796108', 'Evernote - stay organized', '158578688', 'USD', '0', '161065', '26', '4', '3.5', '8.2.2', '4+', 'Productivity', '37', '5', '23', '1']\n",
      "\n",
      "\n",
      "['3', '281940292', 'WeatherBug - Local Weather, Radar, Maps, Alerts', '100524032', 'USD', '0', '188583', '2822', '3.5', '4.5', '5.0.0', '4+', 'Weather', '37', '5', '3', '1']\n",
      "\n",
      "\n",
      "['4', '282614216', 'eBay: Best App to Buy, Sell, Save! Online Shopping', '128512000', 'USD', '0', '262241', '649', '4', '4.5', '5.10.0', '12+', 'Shopping', '37', '5', '9', '1']\n",
      "\n",
      "\n",
      "Number of rows: 7198\n",
      "Number of columns: 17\n",
      "\n",
      "\n",
      "['App', 'Category', 'Rating', 'Reviews', 'Size', 'Installs', 'Type', 'Price', 'Content Rating', 'Genres', 'Last Updated', 'Current Ver', 'Android Ver']\n",
      "\n",
      "\n",
      "['Photo Editor & Candy Camera & Grid & ScrapBook', 'ART_AND_DESIGN', '4.1', '159', '19M', '10,000+', 'Free', '0', 'Everyone', 'Art & Design', 'January 7, 2018', '1.0.0', '4.0.3 and up']\n",
      "\n",
      "\n",
      "['Coloring book moana', 'ART_AND_DESIGN', '3.9', '967', '14M', '500,000+', 'Free', '0', 'Everyone', 'Art & Design;Pretend Play', 'January 15, 2018', '2.0.0', '4.0.3 and up']\n",
      "\n",
      "\n",
      "['U Launcher Lite – FREE Live Cool Themes, Hide Apps', 'ART_AND_DESIGN', '4.7', '87510', '8.7M', '5,000,000+', 'Free', '0', 'Everyone', 'Art & Design', 'August 1, 2018', '1.2.4', '4.0.3 and up']\n",
      "\n",
      "\n",
      "['Sketch - Draw & Paint', 'ART_AND_DESIGN', '4.5', '215644', '25M', '50,000,000+', 'Free', '0', 'Teen', 'Art & Design', 'June 8, 2018', 'Varies with device', '4.2 and up']\n",
      "\n",
      "\n",
      "Number of rows: 10842\n",
      "Number of columns: 13\n"
     ]
    }
   ],
   "source": [
    "# Opening and displaying the datasets\n",
    "from csv import reader\n",
    "open_ios = open('AppleStore.csv')\n",
    "open_android = open('googleplaystore.csv')\n",
    "data_ios = list(reader(open_ios))\n",
    "data_android = list(reader(open_android))\n",
    "\n",
    "explore_data(data_ios, 0, 5, True)\n",
    "print('\\n')\n",
    "explore_data(data_android, 0, 5, True)"
   ]
  },
  {
   "cell_type": "code",
   "execution_count": 3,
   "metadata": {},
   "outputs": [
    {
     "name": "stdout",
     "output_type": "stream",
     "text": [
      "['Life Made WI-Fi Touchscreen Photo Frame', '1.9', '19', '3.0M', '1,000+', 'Free', '0', 'Everyone', '', 'February 11, 2018', '1.0.19', '4.0 and up']\n",
      "10473\n"
     ]
    }
   ],
   "source": [
    "# Checking for an error reported in row 10472 in Android and looks for the same in iOS\n",
    "\n",
    "for row in data_android:\n",
    "    headerlength = len(data_android[0])\n",
    "    rowlength = len(row)\n",
    "    \n",
    "    if rowlength != headerlength:\n",
    "        print(row)\n",
    "        print(data_android.index(row))\n",
    "        \n",
    "for row in data_ios:\n",
    "    headerlength = len(data_ios[0])\n",
    "    rowlength = len(row)\n",
    "    \n",
    "    if rowlength != headerlength:\n",
    "        print(row)\n",
    "        print(data_ios.index(row))"
   ]
  },
  {
   "cell_type": "code",
   "execution_count": 4,
   "metadata": {},
   "outputs": [],
   "source": [
    "#The above code verifies an error in 10472 and therefore removing that row\n",
    "\n",
    "del data_android[10473]"
   ]
  },
  {
   "cell_type": "markdown",
   "metadata": {},
   "source": [
    "Will find duplicates in the Android Playstore data."
   ]
  },
  {
   "cell_type": "code",
   "execution_count": 7,
   "metadata": {},
   "outputs": [
    {
     "name": "stdout",
     "output_type": "stream",
     "text": [
      "Number of duplicate apps:  1181\n"
     ]
    }
   ],
   "source": [
    "duplicate_android_apps = []\n",
    "unique_android_apps = []\n",
    "\n",
    "for app in data_android:\n",
    "    name = app[0]\n",
    "    if name in unique_android_apps:\n",
    "        duplicate_android_apps.append(name)\n",
    "    else:\n",
    "        unique_android_apps.append(name)\n",
    "        \n",
    "print('Number of duplicate apps: ', len(duplicate_android_apps))"
   ]
  },
  {
   "cell_type": "markdown",
   "metadata": {},
   "source": [
    "We'll want to remove these duplicates but retain the duplicate with the highest review number. To do this, we'll first create a dictionary storing only the highest review total for each app, and then we'll prove that the length is the same as expected (based on the number of duplicates we found in the last step, 1181)"
   ]
  },
  {
   "cell_type": "code",
   "execution_count": 13,
   "metadata": {},
   "outputs": [
    {
     "name": "stdout",
     "output_type": "stream",
     "text": [
      "Expected length:  9659\n",
      "9659\n"
     ]
    }
   ],
   "source": [
    "print('Expected length: ', len(data_android[1:]) - 1181)\n",
    "\n",
    "reviews_max = {}\n",
    "\n",
    "for app in data_android[1:]:\n",
    "    name = app[0]\n",
    "    reviews = float(app[3])\n",
    "    if name in reviews_max and reviews_max[name] < reviews:\n",
    "        reviews_max[name] = reviews\n",
    "        \n",
    "    elif name not in reviews_max:\n",
    "        reviews_max[name] = reviews\n",
    "        \n",
    "print(len(reviews_max))"
   ]
  },
  {
   "cell_type": "markdown",
   "metadata": {},
   "source": [
    "Next we'll create a clean list without duplicates."
   ]
  },
  {
   "cell_type": "code",
   "execution_count": 15,
   "metadata": {},
   "outputs": [
    {
     "name": "stdout",
     "output_type": "stream",
     "text": [
      "9659\n"
     ]
    }
   ],
   "source": [
    "android_clean = []\n",
    "android_already = []\n",
    "\n",
    "for app in data_android[1:]:\n",
    "    name = app[0]\n",
    "    reviews = float(app[3])\n",
    "    if (reviews_max[name] == reviews) and (name not in android_already):\n",
    "        android_clean.append(app)\n",
    "        android_already.append(name)\n",
    "        \n",
    "print(len(android_clean))"
   ]
  },
  {
   "cell_type": "markdown",
   "metadata": {},
   "source": [
    "Create a function to find non-English characters. We discovered that ASCII characters will prevent our function from detecting English"
   ]
  },
  {
   "cell_type": "code",
   "execution_count": 42,
   "metadata": {},
   "outputs": [
    {
     "name": "stdout",
     "output_type": "stream",
     "text": [
      "True\n",
      "False\n",
      "True\n",
      "True\n"
     ]
    }
   ],
   "source": [
    "def detectEnglish(string):\n",
    "    asciiNum = 0\n",
    "    \n",
    "    for index in string:\n",
    "        if ord(index) > 127:\n",
    "            asciiNum += 1\n",
    "    \n",
    "    if asciiNum > 3:\n",
    "        return False\n",
    "    else:\n",
    "        return True\n",
    "\n",
    "name1 = 'Instagram'\n",
    "name2 = '爱奇艺PPS -《欢乐颂2》电视剧热播'\n",
    "name3 = ' Docs To Go  Free Office Suite ™'\n",
    "name4 = 'Instachat 😜'\n",
    "\n",
    "print(detectEnglish(name1))\n",
    "print(detectEnglish(name2))\n",
    "print(detectEnglish(name3))\n",
    "print(detectEnglish(name4))"
   ]
  },
  {
   "cell_type": "markdown",
   "metadata": {},
   "source": [
    "Using the detectEnglish function to filter out any non-English apps for the iOS and Android data sets. "
   ]
  },
  {
   "cell_type": "code",
   "execution_count": 44,
   "metadata": {},
   "outputs": [
    {
     "name": "stdout",
     "output_type": "stream",
     "text": [
      "9614\n",
      "45\n"
     ]
    }
   ],
   "source": [
    "android_english = []\n",
    "android_non_english = []\n",
    "\n",
    "for row in android_clean:\n",
    "    name = row[0]\n",
    "    if detectEnglish(name):\n",
    "        android_english.append(row)\n",
    "    else:\n",
    "        android_non_english.append(row)\n",
    "        \n",
    "print(len(android_english))\n",
    "print(len(android_non_english))"
   ]
  },
  {
   "cell_type": "code",
   "execution_count": 52,
   "metadata": {
    "scrolled": true
   },
   "outputs": [
    {
     "name": "stdout",
     "output_type": "stream",
     "text": [
      "6183\n",
      "1014\n"
     ]
    }
   ],
   "source": [
    "ios_english = []\n",
    "ios_non_english = []\n",
    "\n",
    "for row in data_ios[1:]:\n",
    "    name = row[2]\n",
    "    if detectEnglish(name):\n",
    "        ios_english.append(row)\n",
    "    else:\n",
    "        ios_non_english.append(row)\n",
    "        \n",
    "print(len(ios_english))\n",
    "print(len(ios_non_english))"
   ]
  },
  {
   "cell_type": "markdown",
   "metadata": {},
   "source": [
    "We'll isolate only the free apps."
   ]
  },
  {
   "cell_type": "code",
   "execution_count": 60,
   "metadata": {},
   "outputs": [
    {
     "name": "stdout",
     "output_type": "stream",
     "text": [
      "8864\n",
      "3222\n"
     ]
    }
   ],
   "source": [
    "free_android = []\n",
    "free_ios = []\n",
    "\n",
    "for row in android_english:\n",
    "    price = row[7]\n",
    "    if price == '0':\n",
    "        free_android.append(row)\n",
    "    \n",
    "    \n",
    "for row in ios_english:\n",
    "    price = row[5]\n",
    "    if price == '0':\n",
    "        free_ios.append(row)\n",
    "        \n",
    "print(len(free_android))\n",
    "print(len(free_ios))"
   ]
  },
  {
   "cell_type": "markdown",
   "metadata": {},
   "source": [
    "Our goal is to discover a successful app profile to develop an app that has a chance to attract users in both app stores. We'll analyze what genres have been successful using the number of ratings against categories and genres to draw conclusions around the type of app we should develop. The end goal will be to test the popularity of a minimally developed app in the Google Play store, and use the success of that app to decide if we should further develop it and eventually launch an iOs version."
   ]
  },
  {
   "cell_type": "markdown",
   "metadata": {},
   "source": [
    "Creating two functions to analyze the data. One to create a dictionary of specified columns (as a percent of the total) and another to sort those dictionaries properly (to find the most popular)."
   ]
  },
  {
   "cell_type": "code",
   "execution_count": 64,
   "metadata": {},
   "outputs": [
    {
     "name": "stdout",
     "output_type": "stream",
     "text": [
      "iOS Genres:\n",
      "Games : 58.16263190564867\n",
      "Entertainment : 7.883302296710118\n",
      "Photo & Video : 4.9658597144630665\n",
      "Education : 3.662321539416512\n",
      "Social Networking : 3.2898820608317814\n",
      "Shopping : 2.60707635009311\n",
      "Utilities : 2.5139664804469275\n",
      "Sports : 2.1415270018621975\n",
      "Music : 2.0484171322160147\n",
      "Health & Fitness : 2.0173805090006205\n",
      "Productivity : 1.7380509000620732\n",
      "Lifestyle : 1.5828677839851024\n",
      "News : 1.3345747982619491\n",
      "Travel : 1.2414649286157666\n",
      "Finance : 1.1173184357541899\n",
      "Weather : 0.8690254500310366\n",
      "Food & Drink : 0.8069522036002483\n",
      "Reference : 0.5586592178770949\n",
      "Business : 0.5276225946617008\n",
      "Book : 0.4345127250155183\n",
      "Navigation : 0.186219739292365\n",
      "Medical : 0.186219739292365\n",
      "Catalogs : 0.12414649286157665\n",
      "\n",
      "\n",
      "Android Categories:\n",
      "FAMILY : 18.907942238267147\n",
      "GAME : 9.724729241877256\n",
      "TOOLS : 8.461191335740072\n",
      "BUSINESS : 4.591606498194946\n",
      "LIFESTYLE : 3.9034296028880866\n",
      "PRODUCTIVITY : 3.892148014440433\n",
      "FINANCE : 3.7003610108303246\n",
      "MEDICAL : 3.531137184115524\n",
      "SPORTS : 3.395758122743682\n",
      "PERSONALIZATION : 3.3167870036101084\n",
      "COMMUNICATION : 3.2378158844765346\n",
      "HEALTH_AND_FITNESS : 3.0798736462093865\n",
      "PHOTOGRAPHY : 2.944494584837545\n",
      "NEWS_AND_MAGAZINES : 2.7978339350180503\n",
      "SOCIAL : 2.6624548736462095\n",
      "TRAVEL_AND_LOCAL : 2.33528880866426\n",
      "SHOPPING : 2.2450361010830324\n",
      "BOOKS_AND_REFERENCE : 2.1435018050541514\n",
      "DATING : 1.861462093862816\n",
      "VIDEO_PLAYERS : 1.7937725631768955\n",
      "MAPS_AND_NAVIGATION : 1.3989169675090252\n",
      "FOOD_AND_DRINK : 1.2409747292418771\n",
      "EDUCATION : 1.1620036101083033\n",
      "ENTERTAINMENT : 0.9589350180505415\n",
      "LIBRARIES_AND_DEMO : 0.9363718411552346\n",
      "AUTO_AND_VEHICLES : 0.9250902527075812\n",
      "HOUSE_AND_HOME : 0.8235559566787004\n",
      "WEATHER : 0.8009927797833934\n",
      "EVENTS : 0.7107400722021661\n",
      "PARENTING : 0.6543321299638989\n",
      "ART_AND_DESIGN : 0.6430505415162455\n",
      "COMICS : 0.6204873646209386\n",
      "BEAUTY : 0.5979241877256317\n",
      "\n",
      "\n",
      "Android Genres\n",
      "Tools : 8.449909747292418\n",
      "Entertainment : 6.069494584837545\n",
      "Education : 5.347472924187725\n",
      "Business : 4.591606498194946\n",
      "Productivity : 3.892148014440433\n",
      "Lifestyle : 3.892148014440433\n",
      "Finance : 3.7003610108303246\n",
      "Medical : 3.531137184115524\n",
      "Sports : 3.463447653429603\n",
      "Personalization : 3.3167870036101084\n",
      "Communication : 3.2378158844765346\n",
      "Action : 3.1024368231046933\n",
      "Health & Fitness : 3.0798736462093865\n",
      "Photography : 2.944494584837545\n",
      "News & Magazines : 2.7978339350180503\n",
      "Social : 2.6624548736462095\n",
      "Travel & Local : 2.3240072202166067\n",
      "Shopping : 2.2450361010830324\n",
      "Books & Reference : 2.1435018050541514\n",
      "Simulation : 2.0419675090252705\n",
      "Dating : 1.861462093862816\n",
      "Arcade : 1.8501805054151623\n",
      "Video Players & Editors : 1.7712093862815883\n",
      "Casual : 1.7599277978339352\n",
      "Maps & Navigation : 1.3989169675090252\n",
      "Food & Drink : 1.2409747292418771\n",
      "Puzzle : 1.128158844765343\n",
      "Racing : 0.9927797833935018\n",
      "Role Playing : 0.9363718411552346\n",
      "Libraries & Demo : 0.9363718411552346\n",
      "Auto & Vehicles : 0.9250902527075812\n",
      "Strategy : 0.9138086642599278\n",
      "House & Home : 0.8235559566787004\n",
      "Weather : 0.8009927797833934\n",
      "Events : 0.7107400722021661\n",
      "Adventure : 0.6768953068592057\n",
      "Comics : 0.6092057761732852\n",
      "Beauty : 0.5979241877256317\n",
      "Art & Design : 0.5979241877256317\n",
      "Parenting : 0.4963898916967509\n",
      "Card : 0.45126353790613716\n",
      "Casino : 0.42870036101083037\n",
      "Trivia : 0.41741877256317694\n",
      "Educational;Education : 0.39485559566787\n",
      "Board : 0.3835740072202166\n",
      "Educational : 0.3722924187725632\n",
      "Education;Education : 0.33844765342960287\n",
      "Word : 0.2594765342960289\n",
      "Casual;Pretend Play : 0.236913357400722\n",
      "Music : 0.2030685920577617\n",
      "Racing;Action & Adventure : 0.16922382671480143\n",
      "Puzzle;Brain Games : 0.16922382671480143\n",
      "Entertainment;Music & Video : 0.16922382671480143\n",
      "Casual;Brain Games : 0.13537906137184114\n",
      "Casual;Action & Adventure : 0.13537906137184114\n",
      "Arcade;Action & Adventure : 0.12409747292418773\n",
      "Action;Action & Adventure : 0.10153429602888085\n",
      "Educational;Pretend Play : 0.09025270758122744\n",
      "Simulation;Action & Adventure : 0.078971119133574\n",
      "Parenting;Education : 0.078971119133574\n",
      "Entertainment;Brain Games : 0.078971119133574\n",
      "Board;Brain Games : 0.078971119133574\n",
      "Parenting;Music & Video : 0.06768953068592057\n",
      "Educational;Brain Games : 0.06768953068592057\n",
      "Casual;Creativity : 0.06768953068592057\n",
      "Art & Design;Creativity : 0.06768953068592057\n",
      "Education;Pretend Play : 0.056407942238267145\n",
      "Role Playing;Pretend Play : 0.04512635379061372\n",
      "Education;Creativity : 0.04512635379061372\n",
      "Role Playing;Action & Adventure : 0.033844765342960284\n",
      "Puzzle;Action & Adventure : 0.033844765342960284\n",
      "Entertainment;Creativity : 0.033844765342960284\n",
      "Entertainment;Action & Adventure : 0.033844765342960284\n",
      "Educational;Creativity : 0.033844765342960284\n",
      "Educational;Action & Adventure : 0.033844765342960284\n",
      "Education;Music & Video : 0.033844765342960284\n",
      "Education;Brain Games : 0.033844765342960284\n",
      "Education;Action & Adventure : 0.033844765342960284\n",
      "Adventure;Action & Adventure : 0.033844765342960284\n",
      "Video Players & Editors;Music & Video : 0.02256317689530686\n",
      "Sports;Action & Adventure : 0.02256317689530686\n",
      "Simulation;Pretend Play : 0.02256317689530686\n",
      "Puzzle;Creativity : 0.02256317689530686\n",
      "Music;Music & Video : 0.02256317689530686\n",
      "Entertainment;Pretend Play : 0.02256317689530686\n",
      "Casual;Education : 0.02256317689530686\n",
      "Board;Action & Adventure : 0.02256317689530686\n",
      "Video Players & Editors;Creativity : 0.01128158844765343\n",
      "Trivia;Education : 0.01128158844765343\n",
      "Travel & Local;Action & Adventure : 0.01128158844765343\n",
      "Tools;Education : 0.01128158844765343\n",
      "Strategy;Education : 0.01128158844765343\n",
      "Strategy;Creativity : 0.01128158844765343\n",
      "Strategy;Action & Adventure : 0.01128158844765343\n",
      "Simulation;Education : 0.01128158844765343\n",
      "Role Playing;Brain Games : 0.01128158844765343\n",
      "Racing;Pretend Play : 0.01128158844765343\n",
      "Puzzle;Education : 0.01128158844765343\n",
      "Parenting;Brain Games : 0.01128158844765343\n",
      "Music & Audio;Music & Video : 0.01128158844765343\n",
      "Lifestyle;Pretend Play : 0.01128158844765343\n",
      "Lifestyle;Education : 0.01128158844765343\n",
      "Health & Fitness;Education : 0.01128158844765343\n",
      "Health & Fitness;Action & Adventure : 0.01128158844765343\n",
      "Entertainment;Education : 0.01128158844765343\n",
      "Communication;Creativity : 0.01128158844765343\n",
      "Comics;Creativity : 0.01128158844765343\n",
      "Casual;Music & Video : 0.01128158844765343\n",
      "Card;Action & Adventure : 0.01128158844765343\n",
      "Books & Reference;Education : 0.01128158844765343\n",
      "Art & Design;Pretend Play : 0.01128158844765343\n",
      "Art & Design;Action & Adventure : 0.01128158844765343\n",
      "Arcade;Pretend Play : 0.01128158844765343\n",
      "Adventure;Education : 0.01128158844765343\n"
     ]
    }
   ],
   "source": [
    "def freq_table(dataset, index):\n",
    "    dataDictionary = {}\n",
    "    total = 0\n",
    "    for row in dataset:\n",
    "        total += 1\n",
    "        value = row[index]\n",
    "        if value in dataDictionary:\n",
    "            dataDictionary[value] += 1\n",
    "        else:\n",
    "            dataDictionary[value] = 1\n",
    "            \n",
    "    percentDictionary = {}\n",
    "    for key in dataDictionary:\n",
    "        percent = (dataDictionary[key] / total) * 100\n",
    "        percentDictionary[key] =  percent\n",
    "        \n",
    "    return percentDictionary\n",
    "\n",
    "def display_table(dataset, index):\n",
    "    table = freq_table(dataset, index)\n",
    "    table_display = []\n",
    "    for key in table:\n",
    "        key_val_as_tuple = (table[key], key)\n",
    "        table_display.append(key_val_as_tuple)\n",
    "\n",
    "    table_sorted = sorted(table_display, reverse = True)\n",
    "    for entry in table_sorted:\n",
    "        print(entry[1], ':', entry[0])\n",
    "        \n",
    "print('iOS Genres:')\n",
    "display_table(free_ios, 12)\n",
    "print('\\n')\n",
    "print('Android Categories:')\n",
    "display_table(free_android, 1)\n",
    "print('\\n')\n",
    "print('Android Genres')\n",
    "display_table(free_android, 9)"
   ]
  },
  {
   "cell_type": "markdown",
   "metadata": {},
   "source": [
    "**Top Ten iOS app Genres:**\n",
    "1. Games : 58.16%\n",
    "2. Entertainment : 7.88%\n",
    "3. Photo & Video : 4.97%\n",
    "4. Education : 3.66%\n",
    "5. Social Networking : 3.29%\n",
    "6. Shopping : 2.61%\n",
    "7. Utilities : 2.51%\n",
    "8. Sports : 2.14%\n",
    "9. Music : 2.05%\n",
    "10. Health & Fitness : 2.02%\n",
    "\n",
    "**Top Ten Android apps by Category**\n",
    "1. FAMILY : 18.91%\n",
    "2. GAME : 9.72%\n",
    "3. TOOLS : 8.46%\n",
    "4. BUSINESS : 4.59%\n",
    "5. LIFESTYLE : 3.90%\n",
    "6. PRODUCTIVITY : 3.89%\n",
    "7. FINANCE : 3.70%\n",
    "8. MEDICAL : 3.53%\n",
    "9. SPORTS : 3.40%\n",
    "10. PERSONALIZATION : 3.32%\n",
    "\n",
    "**Top Ten Android apps by Genre**\n",
    "1. Tools : 8.45%\n",
    "2. Entertainment : 6.07%\n",
    "3. Education : 5.35%\n",
    "4. Business : 4.59%\n",
    "5. Productivity : 3.89%\n",
    "6. Lifestyle : 3.89%\n",
    "7. Finance : 3.70%\n",
    "8. Medical : 3.53%\n",
    "9. Sports : 3.46%\n",
    "10. Personalization : 3.32%\n",
    "\n",
    "Conclusion: \n",
    "* Games are by far the most popular genre on iOS, followed by entertainment and education. \n",
    "* Android has a more disperse share of genres.\n",
    "  * Family and Games has the highest share by Category\n",
    "  * Tools and productivity are very high on the list\n",
    "  * Games disappear from the genre breakdown because there are many types of game genre in the data (otherwise these would show up higher).\n",
    "* Final conclusion: If we're looking for a popular genre that spans both stores, games and entertainment is the safest bet. However, this only shows the genres with the most apps, not necessarily the most popular with users.  "
   ]
  },
  {
   "cell_type": "markdown",
   "metadata": {},
   "source": [
    "Next we'll isolate the genres of iOS apps and use the rating count to find out which genres are most popular."
   ]
  },
  {
   "cell_type": "code",
   "execution_count": 79,
   "metadata": {},
   "outputs": [
    {
     "name": "stdout",
     "output_type": "stream",
     "text": [
      "Productivity  :  21028.410714285714\n",
      "Weather  :  52279.892857142855\n",
      "Shopping  :  26919.690476190477\n",
      "Reference  :  74942.11111111111\n",
      "Finance  :  31467.944444444445\n",
      "Music  :  57326.530303030304\n",
      "Utilities  :  18684.456790123455\n",
      "Travel  :  28243.8\n",
      "Social Networking  :  71548.34905660378\n",
      "Sports  :  23008.898550724636\n",
      "Health & Fitness  :  23298.015384615384\n",
      "Games  :  22788.6696905016\n",
      "Food & Drink  :  33333.92307692308\n",
      "News  :  21248.023255813954\n",
      "Book  :  39758.5\n",
      "Photo & Video  :  28441.54375\n",
      "Entertainment  :  14029.830708661417\n",
      "Business  :  7491.117647058823\n",
      "Lifestyle  :  16485.764705882353\n",
      "Education  :  7003.983050847458\n",
      "Navigation  :  86090.33333333333\n",
      "Medical  :  612.0\n",
      "Catalogs  :  4004.0\n"
     ]
    }
   ],
   "source": [
    "genreTable = freq_table(free_ios, 12)\n",
    "\n",
    "for genre in genreTable:\n",
    "    total = 0\n",
    "    genreLength = 0\n",
    "    \n",
    "    for row in free_ios:\n",
    "        genre_app = row[12]\n",
    "        if genre_app == genre:\n",
    "            ratings = float(row[6])\n",
    "            total += ratings\n",
    "            genreLength += 1\n",
    "                \n",
    "    avg_ratings = total / genreLength\n",
    "    print(genre, ' : ', avg_ratings)"
   ]
  },
  {
   "cell_type": "markdown",
   "metadata": {},
   "source": [
    "**Sort the categories to find the top ten:**\n",
    "1. Navigation: 86,090\n",
    "  * Navigation is dominated by Google and would require competing with Apple's native Maps.\n",
    "2. **Reference: 74,942**\n",
    "  * Could be an interesting genre to explore.\n",
    "3. Social Networking: 71,548\n",
    "  * Dominated by Facebook and Twitter.\n",
    "4. Music: 57,327\n",
    "  * Dominated by Apple (native) and Spotify.\n",
    "5. Weather: 52,280\n",
    "  * Would have to compete with the native Apple app.\n",
    "6. **Book: 39,759**\n",
    "  * Could be interesting\n",
    "7. **Food & Drink: 33,334**\n",
    "  * Could be interesting\n",
    "8. **Finance: 31,469**\n",
    "  * Could be interesting.\n",
    "9. Photo & Video: 28,442\n",
    "  * Native Apple app.\n",
    "10. Shopping: 26,920\n",
    "  * Dominated by Amazon.\n",
    "\n",
    "Let's explore the competitors in the highlighted genres."
   ]
  },
  {
   "cell_type": "code",
   "execution_count": 81,
   "metadata": {},
   "outputs": [
    {
     "name": "stdout",
     "output_type": "stream",
     "text": [
      "Bible : 985920\n",
      "Dictionary.com Dictionary & Thesaurus : 200047\n",
      "Dictionary.com Dictionary & Thesaurus for iPad : 54175\n",
      "Muslim Pro: Ramadan 2017 Prayer Times, Azan, Quran : 18418\n",
      "Merriam-Webster Dictionary : 16849\n",
      "Google Translate : 26786\n",
      "Night Sky : 12122\n",
      "WWDC : 762\n",
      "Jishokun-Japanese English Dictionary & Translator : 0\n",
      "教えて!goo : 0\n",
      "VPN Express : 14\n",
      "New Furniture Mods - Pocket Wiki & Game Tools for Minecraft PC Edition : 17588\n",
      "LUCKY BLOCK MOD ™ for Minecraft PC Edition - The Best Pocket Wiki & Mods Installer Tools : 4693\n",
      "Guides for Pokémon GO - Pokemon GO News and Cheats : 826\n",
      "Horror Maps for Minecraft PE - Download The Scariest Maps for Minecraft Pocket Edition (MCPE) Free : 718\n",
      "City Maps for Minecraft PE - The Best Maps for Minecraft Pocket Edition (MCPE) : 8535\n",
      "GUNS MODS for Minecraft PC Edition - Mods Tools : 1497\n",
      "Real Bike Traffic Rider Virtual Reality Glasses : 8\n"
     ]
    }
   ],
   "source": [
    "for app in free_ios:\n",
    "    if app[12] == 'Reference':\n",
    "        print(app[2],\":\", app[6])"
   ]
  },
  {
   "cell_type": "code",
   "execution_count": 82,
   "metadata": {},
   "outputs": [
    {
     "name": "stdout",
     "output_type": "stream",
     "text": [
      "Kindle – Read eBooks, Magazines & Textbooks : 252076\n",
      "OverDrive – Library eBooks and Audiobooks : 65450\n",
      "Audible – audio books, original series & podcasts : 105274\n",
      "BookShout: Read eBooks & Track Your Reading Goals : 879\n",
      "ikouhoushi : 0\n",
      "Dr. Seuss Treasury — 50 best kids books : 451\n",
      "Weirdwood Manor : 197\n",
      "Green Riding Hood : 392\n",
      "HOOKED - Chat Stories : 47829\n",
      "Color Therapy Adult Coloring Book for Adults : 84062\n",
      "MangaTiara - love comic reader : 0\n",
      "MangaZERO - comic reader : 9\n",
      "謎解き2016 : 0\n",
      "謎解き : 0\n"
     ]
    }
   ],
   "source": [
    "for app in free_ios:\n",
    "    if app[12] == 'Book':\n",
    "        print(app[2],\":\", app[6])"
   ]
  },
  {
   "cell_type": "code",
   "execution_count": 83,
   "metadata": {},
   "outputs": [
    {
     "name": "stdout",
     "output_type": "stream",
     "text": [
      "OpenTable - Restaurant Reservations : 113936\n",
      "Allrecipes Dinner Spinner : 109349\n",
      "McDo France : 22\n",
      "Starbucks : 303856\n",
      "Lieferando.de : 29\n",
      "Domino's Pizza USA : 258624\n",
      "Lieferheld - Delicious food delivery service : 29\n",
      "Bon Appetit : 750\n",
      "Chefkoch - Rezepte, Kochen, Backen & Kochbuch : 20\n",
      "Chick-fil-A : 5665\n",
      "Postmates - Food Delivery, Faster : 9519\n",
      "Open Food Facts : 1\n",
      "7-Eleven, Inc. : 1356\n",
      "Nowait Guest : 1625\n",
      "DoorDash - Food Delivery : 25947\n",
      "SONIC Drive-In : 1645\n",
      "Youmiam : 9\n",
      "McDonald's : 4050\n",
      "Deliveroo: Restaurant Delivery - Order Food Nearby : 1702\n",
      "Outback : 805\n",
      "Dunkin' Donuts - Get Offers, Coupons & Rewards : 9068\n",
      "UberEATS: Uber for Food Delivery : 17865\n",
      "Delish Eatmoji Keyboard : 154\n",
      "Marmiton Twist : 2\n",
      "Starbucks Keyboard : 457\n",
      "Whataburger : 197\n"
     ]
    }
   ],
   "source": [
    "for app in free_ios:\n",
    "    if app[12] == 'Food & Drink':\n",
    "        print(app[2],\":\", app[6])"
   ]
  },
  {
   "cell_type": "code",
   "execution_count": 84,
   "metadata": {},
   "outputs": [
    {
     "name": "stdout",
     "output_type": "stream",
     "text": [
      "PayPal - Send and request money safely : 119487\n",
      "Bank of America - Mobile Banking : 119773\n",
      "Chase Mobile℠ : 233270\n",
      "Mint: Personal Finance, Budget, Bills & Money : 232940\n",
      "Citi Mobile® : 48822\n",
      "Wells Fargo Mobile : 43064\n",
      "USAA Mobile : 19946\n",
      "Sparkasse - Your mobile branch : 77\n",
      "TaxCaster – Free tax refund calculator : 17516\n",
      "Venmo : 21090\n",
      "Amex Mobile : 11421\n",
      "Chase Mobile : 34322\n",
      "Ma Banque : 17\n",
      "Capital One Mobile : 56110\n",
      "La Banque Postale : 8\n",
      "IRS2Go : 1329\n",
      "Bank of America - Mobile Banking for iPad : 7569\n",
      "Zaim : 44\n",
      "Lloyds Bank Mobile Banking : 17\n",
      "Halifax Mobile Banking : 8\n",
      "Impots.gouv : 0\n",
      "KeyBank Mobile : 623\n",
      "Credit Karma: Free Credit Scores, Reports & Alerts : 101679\n",
      "Wells Fargo for iPad : 2207\n",
      "Capital One for iPad : 21858\n",
      "Square Cash - Send Money for Free : 23775\n",
      "TurboTax Tax Return App - File 2016 income taxes : 9635\n",
      "Paribus - Rebates When Prices Drop : 768\n",
      "U by BB&T : 790\n",
      "Capital One CreditWise - Credit score and report : 1019\n",
      "Digit: Save Money Without Thinking About It : 1506\n",
      "Stash Invest: Investing & Financial Education : 1655\n",
      "币优铺 : 0\n",
      "VyStar Mobile Banking for iPad : 57\n",
      "VyStar Mobile Banking for iPhone : 434\n",
      "Suica : 10\n"
     ]
    }
   ],
   "source": [
    "for app in free_ios:\n",
    "    if app[12] == 'Finance':\n",
    "        print(app[2],\":\", app[6])"
   ]
  },
  {
   "cell_type": "markdown",
   "metadata": {},
   "source": [
    "Now let's examine the Google Play Store."
   ]
  },
  {
   "cell_type": "code",
   "execution_count": 88,
   "metadata": {},
   "outputs": [
    {
     "name": "stdout",
     "output_type": "stream",
     "text": [
      "ART_AND_DESIGN :  1986335.0877192982\n",
      "AUTO_AND_VEHICLES :  647317.8170731707\n",
      "BEAUTY :  513151.88679245283\n",
      "BOOKS_AND_REFERENCE :  8767811.894736841\n",
      "BUSINESS :  1712290.1474201474\n",
      "COMICS :  817657.2727272727\n",
      "COMMUNICATION :  38456119.167247385\n",
      "DATING :  854028.8303030303\n",
      "EDUCATION :  1833495.145631068\n",
      "ENTERTAINMENT :  11640705.88235294\n",
      "EVENTS :  253542.22222222222\n",
      "FINANCE :  1387692.475609756\n",
      "FOOD_AND_DRINK :  1924897.7363636363\n",
      "HEALTH_AND_FITNESS :  4188821.9853479853\n",
      "HOUSE_AND_HOME :  1331540.5616438356\n",
      "LIBRARIES_AND_DEMO :  638503.734939759\n",
      "LIFESTYLE :  1437816.2687861272\n",
      "GAME :  15588015.603248259\n",
      "FAMILY :  3695641.8198090694\n",
      "MEDICAL :  120550.61980830671\n",
      "SOCIAL :  23253652.127118643\n",
      "SHOPPING :  7036877.311557789\n",
      "PHOTOGRAPHY :  17840110.40229885\n",
      "SPORTS :  3638640.1428571427\n",
      "TRAVEL_AND_LOCAL :  13984077.710144928\n",
      "TOOLS :  10801391.298666667\n",
      "PERSONALIZATION :  5201482.6122448975\n",
      "PRODUCTIVITY :  16787331.344927534\n",
      "PARENTING :  542603.6206896552\n",
      "WEATHER :  5074486.197183099\n",
      "VIDEO_PLAYERS :  24727872.452830188\n",
      "NEWS_AND_MAGAZINES :  9549178.467741935\n",
      "MAPS_AND_NAVIGATION :  4056941.7741935486\n"
     ]
    }
   ],
   "source": [
    "CatTable = freq_table(free_android, 1)\n",
    "\n",
    "for category in CatTable:\n",
    "    total = 0\n",
    "    CatLength = 0\n",
    "    \n",
    "    for row in free_android:\n",
    "        AppCategory = row[1]\n",
    "        if AppCategory == category:\n",
    "            downloads = row[5]\n",
    "            downloads = downloads.replace('+', '')\n",
    "            downloads = downloads.replace(',', '')\n",
    "            total += float(downloads)\n",
    "            CatLength += 1\n",
    "    avg_downloads = total / CatLength\n",
    "    print(category, ': ', avg_downloads)"
   ]
  },
  {
   "cell_type": "markdown",
   "metadata": {},
   "source": [
    "The Books Category looks like a good crossover. Let's examine the top dowloaded apps in that category."
   ]
  },
  {
   "cell_type": "code",
   "execution_count": 90,
   "metadata": {},
   "outputs": [
    {
     "name": "stdout",
     "output_type": "stream",
     "text": [
      "Wikipedia :  10,000,000+\n",
      "Cool Reader :  10,000,000+\n",
      "Book store :  1,000,000+\n",
      "FBReader: Favorite Book Reader :  10,000,000+\n",
      "Free Books - Spirit Fanfiction and Stories :  1,000,000+\n",
      "AlReader -any text book reader :  5,000,000+\n",
      "FamilySearch Tree :  1,000,000+\n",
      "Cloud of Books :  1,000,000+\n",
      "ReadEra – free ebook reader :  1,000,000+\n",
      "Ebook Reader :  5,000,000+\n",
      "Read books online :  5,000,000+\n",
      "eBoox: book reader fb2 epub zip :  1,000,000+\n",
      "All Maths Formulas :  1,000,000+\n",
      "Ancestry :  5,000,000+\n",
      "HTC Help :  10,000,000+\n",
      "Moon+ Reader :  10,000,000+\n",
      "English-Myanmar Dictionary :  1,000,000+\n",
      "Golden Dictionary (EN-AR) :  1,000,000+\n",
      "All Language Translator Free :  1,000,000+\n",
      "Aldiko Book Reader :  10,000,000+\n",
      "Dictionary - WordWeb :  5,000,000+\n",
      "50000 Free eBooks & Free AudioBooks :  5,000,000+\n",
      "Al-Quran (Free) :  10,000,000+\n",
      "Al Quran Indonesia :  10,000,000+\n",
      "Al'Quran Bahasa Indonesia :  10,000,000+\n",
      "Al Quran Al karim :  1,000,000+\n",
      "Al Quran : EAlim - Translations & MP3 Offline :  5,000,000+\n",
      "Koran Read &MP3 30 Juz Offline :  1,000,000+\n",
      "Hafizi Quran 15 lines per page :  1,000,000+\n",
      "Quran for Android :  10,000,000+\n",
      "Satellite AR :  1,000,000+\n",
      "Oxford A-Z of English Usage :  1,000,000+\n",
      "Dictionary.com: Find Definitions for English Words :  10,000,000+\n",
      "English Dictionary - Offline :  10,000,000+\n",
      "Bible KJV :  5,000,000+\n",
      "NOOK: Read eBooks & Magazines :  10,000,000+\n",
      "Brilliant Quotes: Life, Love, Family & Motivation :  1,000,000+\n",
      "Stats Royale for Clash Royale :  1,000,000+\n",
      "Dictionary :  10,000,000+\n",
      "wikiHow: how to do anything :  1,000,000+\n",
      "EGW Writings :  1,000,000+\n",
      "My Little Pony AR Guide :  1,000,000+\n",
      "Spanish English Translator :  10,000,000+\n",
      "Dictionary - Merriam-Webster :  10,000,000+\n",
      "JW Library :  10,000,000+\n",
      "Oxford Dictionary of English : Free :  10,000,000+\n",
      "English Hindi Dictionary :  10,000,000+\n",
      "English to Hindi Dictionary :  5,000,000+\n"
     ]
    }
   ],
   "source": [
    "for app in free_android:\n",
    "    if app[1] == 'BOOKS_AND_REFERENCE' and (app[5] == '1,000,000+'\n",
    "                                           or app[5] == '5,000,000+'\n",
    "                                           or app[5] == '10,000,000+'\n",
    "                                           or app[5] == '50,000,000+'):\n",
    "        print(app[0],': ', app[5])"
   ]
  },
  {
   "cell_type": "markdown",
   "metadata": {},
   "source": [
    "The category is dominated by general reference and language dictionaries. A unique reference app would have potential for success in both stores. "
   ]
  }
 ],
 "metadata": {
  "kernelspec": {
   "display_name": "Python 3",
   "language": "python",
   "name": "python3"
  },
  "language_info": {
   "codemirror_mode": {
    "name": "ipython",
    "version": 3
   },
   "file_extension": ".py",
   "mimetype": "text/x-python",
   "name": "python",
   "nbconvert_exporter": "python",
   "pygments_lexer": "ipython3",
   "version": "3.8.3"
  }
 },
 "nbformat": 4,
 "nbformat_minor": 4
}
